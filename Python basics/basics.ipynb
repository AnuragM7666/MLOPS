{
 "cells": [
  {
   "cell_type": "code",
   "execution_count": 1,
   "id": "37997ac2",
   "metadata": {},
   "outputs": [
    {
     "name": "stdout",
     "output_type": "stream",
     "text": [
      "John\n",
      "Cena\n"
     ]
    }
   ],
   "source": [
    "## Python is Case-sensitive\n",
    "\n",
    "name='John'\n",
    "Name='Cena'\n",
    "\n",
    "print(name)  # Output: John\n",
    "print(Name)  # Output: Cena"
   ]
  },
  {
   "cell_type": "code",
   "execution_count": 2,
   "id": "8c2d3924",
   "metadata": {},
   "outputs": [
    {
     "name": "stdout",
     "output_type": "stream",
     "text": [
      "Adult\n"
     ]
    }
   ],
   "source": [
    "## Indentation\n",
    "## Indentation is used to define blocks of code in Python.\n",
    "\n",
    "age=32\n",
    "if age > 18:\n",
    "    print(\"Adult\")  # This line is indented, part of the if block"
   ]
  },
  {
   "cell_type": "code",
   "execution_count": 3,
   "id": "75b6fbaa",
   "metadata": {},
   "outputs": [
    {
     "name": "stdout",
     "output_type": "stream",
     "text": [
      "55\n"
     ]
    }
   ],
   "source": [
    "##Line Continuation\n",
    "## If a line is too long, you can use a backslash to continue it on the next line.\n",
    "total = 1 + 2 + 3 + 4 + 5 + \\\n",
    "        6 + 7 + 8 + 9 + 10\n",
    "print(total)  # Output: 55"
   ]
  },
  {
   "cell_type": "code",
   "execution_count": 4,
   "id": "eb617ea3",
   "metadata": {},
   "outputs": [
    {
     "name": "stdout",
     "output_type": "stream",
     "text": [
      "1 2 3\n"
     ]
    }
   ],
   "source": [
    "## Multiple Statements on a Single Line\n",
    "x = 1; y = 2; z = 3\n",
    "print(x, y, z)  # Output: 1 2 3"
   ]
  },
  {
   "cell_type": "code",
   "execution_count": null,
   "id": "63db7e11",
   "metadata": {},
   "outputs": [
    {
     "data": {
      "text/plain": [
       "str"
      ]
     },
     "execution_count": 7,
     "metadata": {},
     "output_type": "execute_result"
    }
   ],
   "source": [
    "## Semantics \n",
    "age=32\n",
    "name='John'"
   ]
  },
  {
   "cell_type": "code",
   "execution_count": 8,
   "id": "e3fa6229",
   "metadata": {},
   "outputs": [
    {
     "data": {
      "text/plain": [
       "int"
      ]
     },
     "execution_count": 8,
     "metadata": {},
     "output_type": "execute_result"
    }
   ],
   "source": [
    "type(age)"
   ]
  },
  {
   "cell_type": "code",
   "execution_count": 9,
   "id": "bf219abc",
   "metadata": {},
   "outputs": [
    {
     "data": {
      "text/plain": [
       "str"
      ]
     },
     "execution_count": 9,
     "metadata": {},
     "output_type": "execute_result"
    }
   ],
   "source": [
    "type(name)"
   ]
  },
  {
   "cell_type": "code",
   "execution_count": null,
   "id": "529ba99c",
   "metadata": {},
   "outputs": [],
   "source": [
    "## Type inference\n",
    "# Python infers the type of a variable based on the value assigned to it."
   ]
  },
  {
   "cell_type": "code",
   "execution_count": 1,
   "id": "82086836",
   "metadata": {},
   "outputs": [
    {
     "name": "stdout",
     "output_type": "stream",
     "text": [
      "10 <class 'int'>\n",
      "hello <class 'str'>\n"
     ]
    }
   ],
   "source": [
    "#Dynamic Typing\n",
    "# Python allows the type of a variable to change as the program executes\n",
    "\n",
    "var=10\n",
    "print(var, type(var))\n",
    "\n",
    "var='hello'\n",
    "print(var, type(var))"
   ]
  },
  {
   "cell_type": "code",
   "execution_count": null,
   "id": "ba178227",
   "metadata": {},
   "outputs": [
    {
     "data": {
      "text/plain": [
       "6"
      ]
     },
     "execution_count": 2,
     "metadata": {},
     "output_type": "execute_result"
    }
   ],
   "source": [
    "##typecasting\n",
    "height='6'\n",
    "int(str(height))"
   ]
  },
  {
   "cell_type": "code",
   "execution_count": 5,
   "id": "03d5b164",
   "metadata": {},
   "outputs": [
    {
     "name": "stdout",
     "output_type": "stream",
     "text": [
      "pass55\n"
     ]
    }
   ],
   "source": [
    "float(int (height))\n",
    "\n",
    "result=\"pass\"+str(55)\n",
    "print(result)"
   ]
  },
  {
   "cell_type": "code",
   "execution_count": 4,
   "id": "b6a3c0ee",
   "metadata": {},
   "outputs": [
    {
     "name": "stdout",
     "output_type": "stream",
     "text": [
      "10 <class 'str'>\n",
      "6 <class 'int'>\n"
     ]
    }
   ],
   "source": [
    "##input\n",
    "\n",
    "age=input(\"What is ur age?\")\n",
    "print(age, type(age))\n",
    "\n",
    "height=int(input(\"whats ur height?\"))\n",
    "print(height, type(height))"
   ]
  },
  {
   "cell_type": "code",
   "execution_count": null,
   "id": "0b8d9b65",
   "metadata": {},
   "outputs": [
    {
     "name": "stdout",
     "output_type": "stream",
     "text": [
      "2.0\n",
      "2\n"
     ]
    }
   ],
   "source": [
    "#operators\n",
    "a=10; b=5\n",
    "print(a/b)  #normal division\n",
    "print(a//b) #floor division\n"
   ]
  },
  {
   "cell_type": "code",
   "execution_count": null,
   "id": "e653e112",
   "metadata": {},
   "outputs": [],
   "source": []
  }
 ],
 "metadata": {
  "kernelspec": {
   "display_name": "Python 3",
   "language": "python",
   "name": "python3"
  },
  "language_info": {
   "codemirror_mode": {
    "name": "ipython",
    "version": 3
   },
   "file_extension": ".py",
   "mimetype": "text/x-python",
   "name": "python",
   "nbconvert_exporter": "python",
   "pygments_lexer": "ipython3",
   "version": "3.10.0"
  }
 },
 "nbformat": 4,
 "nbformat_minor": 5
}
