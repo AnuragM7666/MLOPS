{
 "cells": [
  {
   "cell_type": "markdown",
   "id": "b9a7a550",
   "metadata": {},
   "source": [
    "Sets\n",
    "\n",
    "are built-in datatype used to store collection of unique items. They are unordered and do not allow duplicate elements. used for union, intersection,etc."
   ]
  },
  {
   "cell_type": "code",
   "execution_count": 2,
   "id": "11b65e33",
   "metadata": {},
   "outputs": [
    {
     "name": "stdout",
     "output_type": "stream",
     "text": [
      "{1, 2, 3, 4, 5}\n"
     ]
    }
   ],
   "source": [
    "mySet={1,2,2,4,5,3,4,5}\n",
    "print(mySet)"
   ]
  },
  {
   "cell_type": "code",
   "execution_count": 3,
   "id": "fea7ea4e",
   "metadata": {},
   "outputs": [
    {
     "name": "stdout",
     "output_type": "stream",
     "text": [
      "{1, 2, 3, 4, 5, 7}\n"
     ]
    }
   ],
   "source": [
    "mySet.add(7)\n",
    "print(mySet)"
   ]
  },
  {
   "cell_type": "code",
   "execution_count": 4,
   "id": "273f44e4",
   "metadata": {},
   "outputs": [
    {
     "name": "stdout",
     "output_type": "stream",
     "text": [
      "{1, 2, 3, 5, 7}\n"
     ]
    }
   ],
   "source": [
    "mySet.remove(4)\n",
    "print(mySet)"
   ]
  },
  {
   "cell_type": "code",
   "execution_count": 5,
   "id": "e0ee89d5",
   "metadata": {},
   "outputs": [
    {
     "name": "stdout",
     "output_type": "stream",
     "text": [
      "{1, 2, 3, 5, 7}\n"
     ]
    }
   ],
   "source": [
    "mySet.discard(11)\n",
    "print(mySet)"
   ]
  },
  {
   "cell_type": "code",
   "execution_count": 6,
   "id": "8f6eb462",
   "metadata": {},
   "outputs": [
    {
     "name": "stdout",
     "output_type": "stream",
     "text": [
      "1\n"
     ]
    }
   ],
   "source": [
    "poppedEl=mySet.pop()\n",
    "print(poppedEl)"
   ]
  },
  {
   "cell_type": "code",
   "execution_count": 7,
   "id": "7db2bb0c",
   "metadata": {},
   "outputs": [
    {
     "name": "stdout",
     "output_type": "stream",
     "text": [
      "False\n",
      "True\n"
     ]
    }
   ],
   "source": [
    "#set membership test\n",
    "\n",
    "print(1 in mySet)\n",
    "print(7 in mySet)"
   ]
  },
  {
   "cell_type": "code",
   "execution_count": 8,
   "id": "0c28664d",
   "metadata": {},
   "outputs": [
    {
     "name": "stdout",
     "output_type": "stream",
     "text": [
      "{0, 1, 2, 5, 6, 7, 8, 9}\n",
      "{6, 7}\n",
      "{6, 7}\n"
     ]
    }
   ],
   "source": [
    "s1={1,2,6,7,5}\n",
    "s2={6,7,8,9,0}\n",
    "\n",
    "#union set\n",
    "us=s1.union(s2)\n",
    "print(us)\n",
    "\n",
    "#intersection\n",
    "iS=s1.intersection(s2)\n",
    "print(iS)\n",
    "\n",
    "s1.intersection_update(s2)\n",
    "print(s1)"
   ]
  },
  {
   "cell_type": "code",
   "execution_count": 10,
   "id": "a059e675",
   "metadata": {},
   "outputs": [
    {
     "name": "stdout",
     "output_type": "stream",
     "text": [
      "{10, 12}\n"
     ]
    }
   ],
   "source": [
    "s1.add(10)\n",
    "s1.add(12)\n",
    "\n",
    "print(s1.difference(s2))"
   ]
  },
  {
   "cell_type": "code",
   "execution_count": 11,
   "id": "fda1ff39",
   "metadata": {},
   "outputs": [
    {
     "data": {
      "text/plain": [
       "{0, 8, 9}"
      ]
     },
     "execution_count": 11,
     "metadata": {},
     "output_type": "execute_result"
    }
   ],
   "source": [
    "s2.difference(s1)"
   ]
  },
  {
   "cell_type": "code",
   "execution_count": null,
   "id": "c3d7a9da",
   "metadata": {},
   "outputs": [
    {
     "data": {
      "text/plain": [
       "{0, 8, 9, 10, 12}"
      ]
     },
     "execution_count": 12,
     "metadata": {},
     "output_type": "execute_result"
    }
   ],
   "source": [
    "s1.symmetric_difference(s2)  #removes intersection elements"
   ]
  },
  {
   "cell_type": "code",
   "execution_count": 14,
   "id": "8760eebf",
   "metadata": {},
   "outputs": [
    {
     "name": "stdout",
     "output_type": "stream",
     "text": [
      "False\n",
      "True\n"
     ]
    }
   ],
   "source": [
    "set1={1,2,3,4,5}\n",
    "set2={2,3,4}\n",
    "\n",
    "print(set1.issubset(set2))\n",
    "\n",
    "print(set1.issuperset(set2))"
   ]
  },
  {
   "cell_type": "code",
   "execution_count": 15,
   "id": "a0744f0a",
   "metadata": {},
   "outputs": [
    {
     "data": {
      "text/plain": [
       "{1, 2, 3, 4, 5, 6}"
      ]
     },
     "execution_count": 15,
     "metadata": {},
     "output_type": "execute_result"
    }
   ],
   "source": [
    "list=[1,2,2,3,3,4,3,2,5,5,6]\n",
    "\n",
    "set(list)"
   ]
  },
  {
   "cell_type": "code",
   "execution_count": 16,
   "id": "3e39b29f",
   "metadata": {},
   "outputs": [
    {
     "name": "stdout",
     "output_type": "stream",
     "text": [
      "{'I', 'am', 'Heisenberg'}\n",
      "3\n"
     ]
    }
   ],
   "source": [
    "#counting unique words in text\n",
    "\n",
    "txt=\"I am Heisenberg\"\n",
    "words=txt.split()\n",
    "\n",
    "unique_words=set(words)\n",
    "print(unique_words)\n",
    "print(len(unique_words))"
   ]
  },
  {
   "cell_type": "code",
   "execution_count": null,
   "id": "09764935",
   "metadata": {},
   "outputs": [],
   "source": []
  }
 ],
 "metadata": {
  "kernelspec": {
   "display_name": "Python 3",
   "language": "python",
   "name": "python3"
  },
  "language_info": {
   "codemirror_mode": {
    "name": "ipython",
    "version": 3
   },
   "file_extension": ".py",
   "mimetype": "text/x-python",
   "name": "python",
   "nbconvert_exporter": "python",
   "pygments_lexer": "ipython3",
   "version": "3.10.0"
  }
 },
 "nbformat": 4,
 "nbformat_minor": 5
}
