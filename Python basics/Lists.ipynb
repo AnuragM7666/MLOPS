{
 "cells": [
  {
   "cell_type": "code",
   "execution_count": 1,
   "id": "190c32a3",
   "metadata": {},
   "outputs": [
    {
     "name": "stdout",
     "output_type": "stream",
     "text": [
      "['Anurag', 1, 3.24, True, 'Akarsh']\n"
     ]
    }
   ],
   "source": [
    "##Lists - ordered,mutable collections of items that contain items of diff datatypes.\n",
    "\n",
    "myList=[\"Anurag\", 1, 3.24, True, \"Akarsh\"]\n",
    "print(myList)"
   ]
  },
  {
   "cell_type": "code",
   "execution_count": 2,
   "id": "a017e1a3",
   "metadata": {},
   "outputs": [
    {
     "name": "stdout",
     "output_type": "stream",
     "text": [
      "Akarsh\n"
     ]
    }
   ],
   "source": [
    "print(myList[4])"
   ]
  },
  {
   "cell_type": "code",
   "execution_count": 3,
   "id": "3950e47f",
   "metadata": {},
   "outputs": [
    {
     "name": "stdout",
     "output_type": "stream",
     "text": [
      "[1, 3.24, True, 'Akarsh']\n"
     ]
    }
   ],
   "source": [
    "print(myList[1:])"
   ]
  },
  {
   "cell_type": "code",
   "execution_count": 4,
   "id": "4292615b",
   "metadata": {},
   "outputs": [
    {
     "name": "stdout",
     "output_type": "stream",
     "text": [
      "[1, 3.24, True]\n"
     ]
    }
   ],
   "source": [
    "print(myList[1:4])"
   ]
  },
  {
   "cell_type": "code",
   "execution_count": 6,
   "id": "99c054b9",
   "metadata": {},
   "outputs": [
    {
     "name": "stdout",
     "output_type": "stream",
     "text": [
      "['Andy', 1, 3.24, True, 'Akarsh']\n"
     ]
    }
   ],
   "source": [
    "#Modifying list elements\n",
    "\n",
    "myList[0]=\"Andy\"\n",
    "print(myList)"
   ]
  },
  {
   "cell_type": "code",
   "execution_count": 7,
   "id": "7f69e98c",
   "metadata": {},
   "outputs": [
    {
     "name": "stdout",
     "output_type": "stream",
     "text": [
      "['Andy', 1, 3.24, True, 'Akarsh', 'Orange']\n"
     ]
    }
   ],
   "source": [
    "myList.append(\"Orange\")\n",
    "print(myList)"
   ]
  },
  {
   "cell_type": "code",
   "execution_count": 8,
   "id": "657afe02",
   "metadata": {},
   "outputs": [
    {
     "name": "stdout",
     "output_type": "stream",
     "text": [
      "['Andy', 'Chinmay', 1, 3.24, True, 'Akarsh', 'Orange']\n"
     ]
    }
   ],
   "source": [
    "myList.insert(1, \"Chinmay\")\n",
    "print(myList)"
   ]
  },
  {
   "cell_type": "code",
   "execution_count": 9,
   "id": "c461ce9b",
   "metadata": {},
   "outputs": [
    {
     "name": "stdout",
     "output_type": "stream",
     "text": [
      "['Andy', 'Chinmay', 3.24, True, 'Akarsh', 'Orange']\n"
     ]
    }
   ],
   "source": [
    "myList.remove(1)\n",
    "print(myList)"
   ]
  },
  {
   "cell_type": "code",
   "execution_count": 10,
   "id": "30d883a0",
   "metadata": {},
   "outputs": [
    {
     "name": "stdout",
     "output_type": "stream",
     "text": [
      "Orange\n"
     ]
    }
   ],
   "source": [
    "##remove and return the last item\n",
    "\n",
    "poppedEle=myList.pop()\n",
    "print(poppedEle)"
   ]
  },
  {
   "cell_type": "code",
   "execution_count": 11,
   "id": "e8ad48e1",
   "metadata": {},
   "outputs": [
    {
     "name": "stdout",
     "output_type": "stream",
     "text": [
      "4\n"
     ]
    }
   ],
   "source": [
    "idx=myList.index(\"Akarsh\")\n",
    "print(idx)"
   ]
  },
  {
   "cell_type": "code",
   "execution_count": 12,
   "id": "1e6b83fc",
   "metadata": {},
   "outputs": [
    {
     "name": "stdout",
     "output_type": "stream",
     "text": [
      "2\n"
     ]
    }
   ],
   "source": [
    "myList.insert(4, \"Andy\")\n",
    "print(myList.count(\"Andy\"))"
   ]
  },
  {
   "cell_type": "code",
   "execution_count": 13,
   "id": "719a7309",
   "metadata": {},
   "outputs": [
    {
     "ename": "TypeError",
     "evalue": "'<' not supported between instances of 'float' and 'str'",
     "output_type": "error",
     "traceback": [
      "\u001b[1;31m---------------------------------------------------------------------------\u001b[0m",
      "\u001b[1;31mTypeError\u001b[0m                                 Traceback (most recent call last)",
      "Cell \u001b[1;32mIn[13], line 1\u001b[0m\n\u001b[1;32m----> 1\u001b[0m \u001b[43mmyList\u001b[49m\u001b[38;5;241;43m.\u001b[39;49m\u001b[43msort\u001b[49m\u001b[43m(\u001b[49m\u001b[43m)\u001b[49m\n\u001b[0;32m      2\u001b[0m \u001b[38;5;28mprint\u001b[39m(myList)\n",
      "\u001b[1;31mTypeError\u001b[0m: '<' not supported between instances of 'float' and 'str'"
     ]
    }
   ],
   "source": [
    "myList.sort()\n",
    "print(myList)"
   ]
  },
  {
   "cell_type": "code",
   "execution_count": 14,
   "id": "bd87314f",
   "metadata": {},
   "outputs": [
    {
     "name": "stdout",
     "output_type": "stream",
     "text": [
      "['Akarsh', 'Andy', True, 3.24, 'Chinmay', 'Andy']\n"
     ]
    }
   ],
   "source": [
    "myList.reverse()\n",
    "print(myList)"
   ]
  },
  {
   "cell_type": "code",
   "execution_count": 15,
   "id": "6f5d4bf2",
   "metadata": {},
   "outputs": [
    {
     "name": "stdout",
     "output_type": "stream",
     "text": [
      "[]\n"
     ]
    }
   ],
   "source": [
    "myList.clear()\n",
    "print(myList)"
   ]
  },
  {
   "cell_type": "code",
   "execution_count": 16,
   "id": "cd491617",
   "metadata": {},
   "outputs": [
    {
     "name": "stdout",
     "output_type": "stream",
     "text": [
      "[3, 4, 5]\n",
      "[1, 2, 3, 4, 5]\n",
      "[6, 7, 8, 9, 0]\n",
      "[1, 3, 5, 7, 9]\n",
      "[0, 9, 8, 7, 6, 5, 4, 3, 2, 1]\n"
     ]
    }
   ],
   "source": [
    "##Slicing lists\n",
    "nums=[1,2,3,4,5,6,7,8,9,0]\n",
    "print(nums[2:5])\n",
    "print(nums[:5])\n",
    "print(nums[5:])\n",
    "print(nums[::2])\n",
    "print(nums[::-1])"
   ]
  },
  {
   "cell_type": "code",
   "execution_count": 19,
   "id": "f81859e4",
   "metadata": {},
   "outputs": [
    {
     "name": "stdout",
     "output_type": "stream",
     "text": [
      "1\n",
      "2\n",
      "3\n",
      "4\n",
      "5\n",
      "6\n",
      "7\n",
      "8\n",
      "9\n",
      "0\n"
     ]
    }
   ],
   "source": [
    "#iterating over lists\n",
    "for num in nums:\n",
    "    print(num)"
   ]
  },
  {
   "cell_type": "code",
   "execution_count": 20,
   "id": "914ec8dd",
   "metadata": {},
   "outputs": [
    {
     "name": "stdout",
     "output_type": "stream",
     "text": [
      "0 1\n",
      "1 2\n",
      "2 3\n",
      "3 4\n",
      "4 5\n",
      "5 6\n",
      "6 7\n",
      "7 8\n",
      "8 9\n",
      "9 0\n"
     ]
    }
   ],
   "source": [
    "#iterating with idx\n",
    "\n",
    "for idx, num in enumerate(nums):\n",
    "    print(idx,num)"
   ]
  },
  {
   "cell_type": "code",
   "execution_count": 21,
   "id": "9de8d75d",
   "metadata": {},
   "outputs": [
    {
     "name": "stdout",
     "output_type": "stream",
     "text": [
      "[0, 1, 4, 9, 16, 25, 36, 49, 64, 81]\n"
     ]
    }
   ],
   "source": [
    "#list comprehension\n",
    "\n",
    "list=[]\n",
    "for x in range(10):\n",
    "    list.append(x**2)\n",
    "\n",
    "print(list)"
   ]
  },
  {
   "cell_type": "code",
   "execution_count": null,
   "id": "ff6a440f",
   "metadata": {},
   "outputs": [
    {
     "data": {
      "text/plain": [
       "[0, 1, 4, 9, 16, 25, 36, 49, 64, 81]"
      ]
     },
     "execution_count": 22,
     "metadata": {},
     "output_type": "execute_result"
    }
   ],
   "source": [
    "[x**2 for x in range(10)] ##list comprehension"
   ]
  },
  {
   "cell_type": "markdown",
   "id": "40df8220",
   "metadata": {},
   "source": [
    "List Comprehension\n",
    "\n",
    "Basics syntax [expression for item in iterable]\n",
    "\n",
    "with conditional logic [expression for item in iterable if condition]\n",
    "\n",
    "nested condition [expression for item1 in iterable1 for item2 in iterable2]"
   ]
  },
  {
   "cell_type": "code",
   "execution_count": 23,
   "id": "af77b211",
   "metadata": {},
   "outputs": [
    {
     "name": "stdout",
     "output_type": "stream",
     "text": [
      "[1, 4, 9, 16, 25, 36, 49, 64, 81]\n"
     ]
    }
   ],
   "source": [
    "#basic list comprehension\n",
    "\n",
    "square=[num**2 for num in range(1,10)]\n",
    "print(square)"
   ]
  },
  {
   "cell_type": "code",
   "execution_count": 24,
   "id": "38ac8b29",
   "metadata": {},
   "outputs": [
    {
     "name": "stdout",
     "output_type": "stream",
     "text": [
      "[0, 2, 4, 6, 8]\n"
     ]
    }
   ],
   "source": [
    "#with condition\n",
    "\n",
    "even_nums=[num for num in range(10) if num%2==0]\n",
    "print(even_nums)"
   ]
  },
  {
   "cell_type": "code",
   "execution_count": 25,
   "id": "686f6690",
   "metadata": {},
   "outputs": [
    {
     "name": "stdout",
     "output_type": "stream",
     "text": [
      "[[1, 'a'], [1, 'b'], [1, 'c'], [2, 'a'], [2, 'b'], [2, 'c'], [3, 'a'], [3, 'b'], [3, 'c'], [4, 'a'], [4, 'b'], [4, 'c']]\n"
     ]
    }
   ],
   "source": [
    "#nested comprehension\n",
    "\n",
    "l1=[1,2,3,4]\n",
    "l2=['a', 'b', 'c']\n",
    "\n",
    "pair=[[i,j] for i in l1 for j in l2]\n",
    "print(pair)"
   ]
  },
  {
   "cell_type": "code",
   "execution_count": 26,
   "id": "702cb544",
   "metadata": {},
   "outputs": [
    {
     "name": "stdout",
     "output_type": "stream",
     "text": [
      "[6, 5, 7, 8]\n"
     ]
    }
   ],
   "source": [
    "##list comprehension with in built function calls\n",
    "\n",
    "words=['Anurag', 'Suhas', 'Bhargav', 'Siddhesh']\n",
    "lengths=[len(word) for word in words]\n",
    "print(lengths)"
   ]
  },
  {
   "cell_type": "code",
   "execution_count": null,
   "id": "3c9a3f39",
   "metadata": {},
   "outputs": [],
   "source": []
  }
 ],
 "metadata": {
  "kernelspec": {
   "display_name": "Python 3",
   "language": "python",
   "name": "python3"
  },
  "language_info": {
   "codemirror_mode": {
    "name": "ipython",
    "version": 3
   },
   "file_extension": ".py",
   "mimetype": "text/x-python",
   "name": "python",
   "nbconvert_exporter": "python",
   "pygments_lexer": "ipython3",
   "version": "3.10.0"
  }
 },
 "nbformat": 4,
 "nbformat_minor": 5
}
