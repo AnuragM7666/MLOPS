{
 "cells": [
  {
   "cell_type": "markdown",
   "id": "d52da16c",
   "metadata": {},
   "source": [
    "Dictionaries\n",
    "\n",
    "are unordered collection of items that store data in key-value pairs. keys must be unique and immutable(strings, tuples, numbers) while values can be of any type."
   ]
  },
  {
   "cell_type": "code",
   "execution_count": 1,
   "id": "d2018f16",
   "metadata": {},
   "outputs": [
    {
     "name": "stdout",
     "output_type": "stream",
     "text": [
      "{'name': 'Anurag', 'age': 21, 'caste': 'jain'}\n"
     ]
    }
   ],
   "source": [
    "stud={\"name\":\"Anurag\", \"age\":21, \"caste\":\"jain\"}\n",
    "print(stud)"
   ]
  },
  {
   "cell_type": "code",
   "execution_count": 2,
   "id": "365c1ab2",
   "metadata": {},
   "outputs": [
    {
     "name": "stdout",
     "output_type": "stream",
     "text": [
      "21\n"
     ]
    }
   ],
   "source": [
    "print(stud[\"age\"])"
   ]
  },
  {
   "cell_type": "code",
   "execution_count": 3,
   "id": "7ff7e49a",
   "metadata": {},
   "outputs": [
    {
     "name": "stdout",
     "output_type": "stream",
     "text": [
      "jain\n"
     ]
    }
   ],
   "source": [
    "print(stud.get('caste'))"
   ]
  },
  {
   "cell_type": "code",
   "execution_count": null,
   "id": "15adbb21",
   "metadata": {},
   "outputs": [
    {
     "name": "stdout",
     "output_type": "stream",
     "text": [
      "not available\n"
     ]
    }
   ],
   "source": [
    "print(stud.get('last_name', 'not available')) #giving default value to an unavailable key"
   ]
  },
  {
   "cell_type": "code",
   "execution_count": 5,
   "id": "67864bd4",
   "metadata": {},
   "outputs": [
    {
     "name": "stdout",
     "output_type": "stream",
     "text": [
      "{'name': 'Anurag', 'age': 40, 'caste': 'jain'}\n",
      "{'name': 'Anurag', 'age': 40, 'caste': 'jain', 'address': 'Kolhapur'}\n"
     ]
    }
   ],
   "source": [
    "#dictionary are mutable \n",
    "\n",
    "stud['age']=40\n",
    "print(stud)\n",
    "\n",
    "stud['address']='Kolhapur'\n",
    "print(stud)"
   ]
  },
  {
   "cell_type": "code",
   "execution_count": 6,
   "id": "57335519",
   "metadata": {},
   "outputs": [
    {
     "name": "stdout",
     "output_type": "stream",
     "text": [
      "{'name': 'Anurag', 'age': 40, 'address': 'Kolhapur'}\n"
     ]
    }
   ],
   "source": [
    "del stud['caste']\n",
    "print(stud)"
   ]
  },
  {
   "cell_type": "code",
   "execution_count": 7,
   "id": "a24c9f7d",
   "metadata": {},
   "outputs": [
    {
     "name": "stdout",
     "output_type": "stream",
     "text": [
      "dict_keys(['name', 'age', 'address'])\n",
      "dict_values(['Anurag', 40, 'Kolhapur'])\n"
     ]
    }
   ],
   "source": [
    "#dic methods\n",
    "\n",
    "keys=stud.keys()\n",
    "print(keys)\n",
    "\n",
    "values=stud.values()\n",
    "print(values)"
   ]
  },
  {
   "cell_type": "code",
   "execution_count": null,
   "id": "701577e2",
   "metadata": {},
   "outputs": [
    {
     "name": "stdout",
     "output_type": "stream",
     "text": [
      "dict_items([('name', 'Anurag'), ('age', 40), ('address', 'Kolhapur')])\n"
     ]
    }
   ],
   "source": [
    "items =stud.items()\n",
    "print(items)  #tuples printing"
   ]
  },
  {
   "cell_type": "code",
   "execution_count": 9,
   "id": "5674e292",
   "metadata": {},
   "outputs": [
    {
     "name": "stdout",
     "output_type": "stream",
     "text": [
      "{'name': 'Anurag', 'age': 40, 'address': 'Kolhapur'}\n",
      "{'name': 'Anurag', 'age': 40, 'address': 'Kolhapur'}\n"
     ]
    }
   ],
   "source": [
    "stud_copy=stud\n",
    "print(stud)\n",
    "print(stud_copy)"
   ]
  },
  {
   "cell_type": "code",
   "execution_count": null,
   "id": "0d4cae64",
   "metadata": {},
   "outputs": [
    {
     "name": "stdout",
     "output_type": "stream",
     "text": [
      "{'name': 'Akarsh', 'age': 40, 'address': 'Kolhapur'}\n",
      "{'name': 'Akarsh', 'age': 40, 'address': 'Kolhapur'}\n"
     ]
    }
   ],
   "source": [
    "stud['name']='Akarsh'\n",
    "print(stud)\n",
    "print(stud_copy) #changes are also copied"
   ]
  },
  {
   "cell_type": "code",
   "execution_count": 11,
   "id": "54b62631",
   "metadata": {},
   "outputs": [
    {
     "name": "stdout",
     "output_type": "stream",
     "text": [
      "{'name': 'Akarsh', 'age': 40, 'address': 'Kolhapur'}\n",
      "{'name': 'Akarsh', 'age': 40, 'address': 'Kolhapur'}\n"
     ]
    }
   ],
   "source": [
    "#shallow copy\n",
    "\n",
    "stud_coppy=stud.copy()\n",
    "print(stud)\n",
    "print(stud_copy)\n"
   ]
  },
  {
   "cell_type": "code",
   "execution_count": 13,
   "id": "a4add5a1",
   "metadata": {},
   "outputs": [
    {
     "name": "stdout",
     "output_type": "stream",
     "text": [
      "{'name': 'Chinmay', 'age': 40, 'address': 'Kolhapur'}\n",
      "{'name': 'Chinmay', 'age': 40, 'address': 'Kolhapur'}\n",
      "{'name': 'Akarsh', 'age': 40, 'address': 'Kolhapur'}\n"
     ]
    }
   ],
   "source": [
    "stud['name']='Chinmay'\n",
    "print(stud)\n",
    "print(stud_copy)\n",
    "print(stud_coppy)\n"
   ]
  },
  {
   "cell_type": "code",
   "execution_count": null,
   "id": "d862f020",
   "metadata": {},
   "outputs": [
    {
     "name": "stdout",
     "output_type": "stream",
     "text": [
      "name\n",
      "age\n",
      "address\n"
     ]
    }
   ],
   "source": [
    "#iterating over dic\n",
    "\n",
    "for key in stud.keys():\n",
    "    print(key)"
   ]
  },
  {
   "cell_type": "code",
   "execution_count": 15,
   "id": "00d71576",
   "metadata": {},
   "outputs": [
    {
     "name": "stdout",
     "output_type": "stream",
     "text": [
      "Chinmay\n",
      "40\n",
      "Kolhapur\n"
     ]
    }
   ],
   "source": [
    "for value in stud.values():\n",
    "    print(value)"
   ]
  },
  {
   "cell_type": "code",
   "execution_count": 16,
   "id": "b1a699fc",
   "metadata": {},
   "outputs": [
    {
     "name": "stdout",
     "output_type": "stream",
     "text": [
      "name:Chinmay\n",
      "age:40\n",
      "address:Kolhapur\n"
     ]
    }
   ],
   "source": [
    "for key,value in stud.items():\n",
    "    print(f\"{key}:{value}\")"
   ]
  },
  {
   "cell_type": "code",
   "execution_count": 17,
   "id": "9768e9b8",
   "metadata": {},
   "outputs": [
    {
     "name": "stdout",
     "output_type": "stream",
     "text": [
      "{'stud1': {'name': 'Anurag', 'age': 21}, 'stud2': {'name': 'Akarsh', 'age': 22}}\n"
     ]
    }
   ],
   "source": [
    "studs={\n",
    "    'stud1':{'name':'Anurag', 'age':21},\n",
    "    'stud2':{'name':'Akarsh', 'age':22},\n",
    "}\n",
    "print(studs)"
   ]
  },
  {
   "cell_type": "code",
   "execution_count": 18,
   "id": "d719a6c8",
   "metadata": {},
   "outputs": [
    {
     "name": "stdout",
     "output_type": "stream",
     "text": [
      "Anurag\n"
     ]
    }
   ],
   "source": [
    "print(studs['stud1']['name'])"
   ]
  },
  {
   "cell_type": "code",
   "execution_count": 19,
   "id": "a1becf66",
   "metadata": {},
   "outputs": [
    {
     "name": "stdout",
     "output_type": "stream",
     "text": [
      "stud1:{'name': 'Anurag', 'age': 21}\n",
      "name:Anurag\n",
      "age:21\n",
      "stud2:{'name': 'Akarsh', 'age': 22}\n",
      "name:Akarsh\n",
      "age:22\n"
     ]
    }
   ],
   "source": [
    "for stud_name, stud_age in studs.items():\n",
    "    print(f\"{stud_name}:{stud_age}\")\n",
    "    for key,value in stud_age.items():\n",
    "        print(f\"{key}:{value}\")"
   ]
  },
  {
   "cell_type": "code",
   "execution_count": 25,
   "id": "0fd569ea",
   "metadata": {},
   "outputs": [
    {
     "name": "stdout",
     "output_type": "stream",
     "text": [
      "{0: 0, 1: 1, 2: 4, 3: 9, 4: 16}\n"
     ]
    }
   ],
   "source": [
    "#dic comprehension\n",
    "\n",
    "squares={x:x**2 for x in range(5)}\n",
    "print(squares)"
   ]
  },
  {
   "cell_type": "code",
   "execution_count": 26,
   "id": "7d41e6d1",
   "metadata": {},
   "outputs": [
    {
     "name": "stdout",
     "output_type": "stream",
     "text": [
      "{0: 0, 2: 4, 4: 16, 6: 36, 8: 64}\n"
     ]
    }
   ],
   "source": [
    "evens={x:x**2 for x in range(10) if x%2==0}\n",
    "print(evens)"
   ]
  },
  {
   "cell_type": "code",
   "execution_count": 27,
   "id": "b3443a6c",
   "metadata": {},
   "outputs": [
    {
     "name": "stdout",
     "output_type": "stream",
     "text": [
      "{1: 4, 2: 3, 3: 2, 4: 1, 5: 5}\n"
     ]
    }
   ],
   "source": [
    "#e.g. counting the freq of elements in list\n",
    "\n",
    "nums=[1,1,1,1,2,2,2,3,3,4,5,5,5,5,5]\n",
    "freq={}\n",
    "\n",
    "for num in nums:\n",
    "    if num in freq:\n",
    "        freq[num]+=1\n",
    "    else:\n",
    "        freq[num]=1\n",
    "print(freq)"
   ]
  },
  {
   "cell_type": "code",
   "execution_count": 28,
   "id": "a536785b",
   "metadata": {},
   "outputs": [
    {
     "name": "stdout",
     "output_type": "stream",
     "text": [
      "{'a': 1, 'b': 2, 'c': 4}\n"
     ]
    }
   ],
   "source": [
    "#merge two dics\n",
    "\n",
    "dic1={'a':1, 'b':3}\n",
    "dic2={'b':2, 'c':4}\n",
    "\n",
    "merged_dic={**dic1, **dic2}\n",
    "print(merged_dic)"
   ]
  },
  {
   "cell_type": "code",
   "execution_count": null,
   "id": "d877fd72",
   "metadata": {},
   "outputs": [],
   "source": []
  }
 ],
 "metadata": {
  "kernelspec": {
   "display_name": "Python 3",
   "language": "python",
   "name": "python3"
  },
  "language_info": {
   "codemirror_mode": {
    "name": "ipython",
    "version": 3
   },
   "file_extension": ".py",
   "mimetype": "text/x-python",
   "name": "python",
   "nbconvert_exporter": "python",
   "pygments_lexer": "ipython3",
   "version": "3.10.0"
  }
 },
 "nbformat": 4,
 "nbformat_minor": 5
}
