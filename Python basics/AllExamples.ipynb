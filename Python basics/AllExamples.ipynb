{
 "cells": [
  {
   "cell_type": "markdown",
   "id": "143eb43a",
   "metadata": {},
   "source": [
    "Examples"
   ]
  },
  {
   "cell_type": "code",
   "execution_count": 1,
   "id": "ea73496a",
   "metadata": {},
   "outputs": [
    {
     "name": "stdout",
     "output_type": "stream",
     "text": [
      "Don't forget to read the damn book!!\n",
      "To do list remaining:\n",
      "read Atomic Habits\n",
      "Gym for 2hrs\n",
      "watch Vinland Saga\n",
      "Go to a run\n",
      "Solve a DSA Q\n"
     ]
    }
   ],
   "source": [
    "#create a to-do list to keep task of tracks\n",
    "\n",
    "to_do_list=[\"Meditate\", \"read Atomic Habits\", \"Gym for 2hrs\", \"watch Vinland Saga\"]\n",
    "\n",
    "to_do_list.append(\"Go to a run\")\n",
    "to_do_list.append(\"Solve a DSA Q\")\n",
    "\n",
    "to_do_list.remove(\"Meditate\")\n",
    "\n",
    "if \"read Atomic Habits\" in to_do_list:\n",
    "    print(\"Don't forget to read the damn book!!\")\n",
    "\n",
    "print(\"To do list remaining:\")\n",
    "for task in to_do_list:\n",
    "    print(f\"{task}\")"
   ]
  },
  {
   "cell_type": "code",
   "execution_count": 1,
   "id": "cc028973",
   "metadata": {},
   "outputs": [
    {
     "name": "stdout",
     "output_type": "stream",
     "text": [
      "Positive feedbacks: 2\n",
      "User feedback: \n",
      "- great service\n",
      "- excellent experience\n",
      "- not satisfied\n",
      "- value for money\n",
      "- bad handling\n"
     ]
    }
   ],
   "source": [
    "feedbacks=[\"great service\", \"excellent experience\", \"not satisfied\", \"value for money\"]\n",
    "\n",
    "feedbacks.append(\"bad handling\")\n",
    "\n",
    "positive_fb_counts=sum(1 for comment in feedbacks if \"great\" in comment.lower() or \"excellent\" in comment.lower())\n",
    "print(f\"Positive feedbacks: {positive_fb_counts}\")\n",
    "\n",
    "print(\"User feedback: \")\n",
    "for comment in feedbacks:\n",
    "    print(f\"- {comment}\")"
   ]
  },
  {
   "cell_type": "code",
   "execution_count": null,
   "id": "ebce797e",
   "metadata": {},
   "outputs": [],
   "source": []
  }
 ],
 "metadata": {
  "kernelspec": {
   "display_name": "Python 3",
   "language": "python",
   "name": "python3"
  },
  "language_info": {
   "codemirror_mode": {
    "name": "ipython",
    "version": 3
   },
   "file_extension": ".py",
   "mimetype": "text/x-python",
   "name": "python",
   "nbconvert_exporter": "python",
   "pygments_lexer": "ipython3",
   "version": "3.10.0"
  }
 },
 "nbformat": 4,
 "nbformat_minor": 5
}
