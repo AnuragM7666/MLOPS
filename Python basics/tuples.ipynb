{
 "cells": [
  {
   "cell_type": "code",
   "execution_count": 1,
   "id": "fa267043",
   "metadata": {},
   "outputs": [
    {
     "data": {
      "text/plain": [
       "(1, 2, 3, 4, 5)"
      ]
     },
     "execution_count": 1,
     "metadata": {},
     "output_type": "execute_result"
    }
   ],
   "source": [
    "##Tuples - ordered collections of items that are immutable\n",
    "\n",
    "nums=tuple([1,2,3,4,5])\n",
    "nums"
   ]
  },
  {
   "cell_type": "code",
   "execution_count": 3,
   "id": "fa69cbf4",
   "metadata": {},
   "outputs": [
    {
     "name": "stdout",
     "output_type": "stream",
     "text": [
      "('Ak', 'Am', 1, True, 3.14)\n"
     ]
    }
   ],
   "source": [
    "mix_tup=(\"Ak\", \"Am\", 1, True, 3.14)\n",
    "print(mix_tup)"
   ]
  },
  {
   "cell_type": "code",
   "execution_count": 4,
   "id": "07209c45",
   "metadata": {},
   "outputs": [
    {
     "data": {
      "text/plain": [
       "1"
      ]
     },
     "execution_count": 4,
     "metadata": {},
     "output_type": "execute_result"
    }
   ],
   "source": [
    "nums[0]"
   ]
  },
  {
   "cell_type": "code",
   "execution_count": 5,
   "id": "708826b2",
   "metadata": {},
   "outputs": [
    {
     "data": {
      "text/plain": [
       "(1, 2, 3, 4)"
      ]
     },
     "execution_count": 5,
     "metadata": {},
     "output_type": "execute_result"
    }
   ],
   "source": [
    "nums[0:4]"
   ]
  },
  {
   "cell_type": "code",
   "execution_count": 6,
   "id": "743d73d7",
   "metadata": {},
   "outputs": [
    {
     "name": "stdout",
     "output_type": "stream",
     "text": [
      "(1, 2, 3, 4, 5, 'Ak', 'Am', 1, True, 3.14)\n"
     ]
    }
   ],
   "source": [
    "## tuple operations\n",
    "\n",
    "concat=nums+mix_tup\n",
    "print(concat)"
   ]
  },
  {
   "cell_type": "code",
   "execution_count": 7,
   "id": "13f6bb75",
   "metadata": {},
   "outputs": [
    {
     "data": {
      "text/plain": [
       "('Ak', 'Am', 1, True, 3.14, 'Ak', 'Am', 1, True, 3.14)"
      ]
     },
     "execution_count": 7,
     "metadata": {},
     "output_type": "execute_result"
    }
   ],
   "source": [
    "mix_tup*2"
   ]
  },
  {
   "cell_type": "code",
   "execution_count": 8,
   "id": "f2713cd3",
   "metadata": {},
   "outputs": [
    {
     "name": "stdout",
     "output_type": "stream",
     "text": [
      "1\n"
     ]
    }
   ],
   "source": [
    "#tuple methods\n",
    "\n",
    "print(nums.count(1))"
   ]
  },
  {
   "cell_type": "code",
   "execution_count": 9,
   "id": "da5abf0f",
   "metadata": {},
   "outputs": [
    {
     "name": "stdout",
     "output_type": "stream",
     "text": [
      "2\n"
     ]
    }
   ],
   "source": [
    "print(nums.index(3))"
   ]
  },
  {
   "cell_type": "code",
   "execution_count": null,
   "id": "3e08c5c1",
   "metadata": {},
   "outputs": [
    {
     "name": "stdout",
     "output_type": "stream",
     "text": [
      "(1, 'hello', 32.22)\n"
     ]
    }
   ],
   "source": [
    "##packing and unpacking\n",
    "\n",
    "packed_tup=1, \"hello\", 32.22\n",
    "print(packed_tup) #packed"
   ]
  },
  {
   "cell_type": "code",
   "execution_count": 11,
   "id": "9aaaab91",
   "metadata": {},
   "outputs": [
    {
     "name": "stdout",
     "output_type": "stream",
     "text": [
      "1\n",
      "hello\n",
      "32.22\n"
     ]
    }
   ],
   "source": [
    "a,b,c=packed_tup  #unpacking\n",
    "print(a)\n",
    "print(b)\n",
    "print(c)"
   ]
  },
  {
   "cell_type": "code",
   "execution_count": 12,
   "id": "c3b99ae0",
   "metadata": {},
   "outputs": [
    {
     "name": "stdout",
     "output_type": "stream",
     "text": [
      "1\n",
      "[2, 3, 4]\n",
      "5\n"
     ]
    }
   ],
   "source": [
    "##unpacking with *\n",
    "\n",
    "first, *middle, last=nums\n",
    "print(first)\n",
    "print(middle)\n",
    "print(last)"
   ]
  },
  {
   "cell_type": "code",
   "execution_count": 13,
   "id": "11d66dd4",
   "metadata": {},
   "outputs": [
    {
     "name": "stdout",
     "output_type": "stream",
     "text": [
      "(1, 2, 3)\n",
      "c\n"
     ]
    }
   ],
   "source": [
    "#nested tuple\n",
    "\n",
    "nested_tup=((1,2,3), ('a', 'b', 'c'), (True, False))\n",
    "print(nested_tup[0])\n",
    "print(nested_tup[1][2])\n"
   ]
  },
  {
   "cell_type": "code",
   "execution_count": 14,
   "id": "c401b4e9",
   "metadata": {},
   "outputs": [
    {
     "name": "stdout",
     "output_type": "stream",
     "text": [
      "1 2 3 \n",
      "a b c \n",
      "True False \n"
     ]
    }
   ],
   "source": [
    "for sub_tup in nested_tup:\n",
    "    for item in sub_tup:\n",
    "        print(item, end=\" \")\n",
    "    print()"
   ]
  },
  {
   "cell_type": "code",
   "execution_count": null,
   "id": "b714d683",
   "metadata": {},
   "outputs": [],
   "source": []
  }
 ],
 "metadata": {
  "kernelspec": {
   "display_name": "Python 3",
   "language": "python",
   "name": "python3"
  },
  "language_info": {
   "codemirror_mode": {
    "name": "ipython",
    "version": 3
   },
   "file_extension": ".py",
   "mimetype": "text/x-python",
   "name": "python",
   "nbconvert_exporter": "python",
   "pygments_lexer": "ipython3",
   "version": "3.10.0"
  }
 },
 "nbformat": 4,
 "nbformat_minor": 5
}
