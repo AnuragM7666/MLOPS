{
 "cells": [
  {
   "cell_type": "markdown",
   "id": "17dd758b",
   "metadata": {},
   "source": [
    "Functions\n",
    "\n",
    "A function is a block of code that performs a specific task. They help in organizing code, reusing it and imprving readablility."
   ]
  },
  {
   "cell_type": "code",
   "execution_count": null,
   "id": "4367ddaa",
   "metadata": {},
   "outputs": [],
   "source": [
    "##syntax\n",
    "\n",
    "def function_name(parameters):\n",
    "    \"\"\"Docstring\"\"\" ##specifies the purpose of function, no need to write it compulsory\n",
    "    ##function body\n",
    "    return expression"
   ]
  },
  {
   "cell_type": "code",
   "execution_count": 3,
   "id": "20f9f5f3",
   "metadata": {},
   "outputs": [],
   "source": [
    "def even_or_odd(num):\n",
    "    if(num%2==0):\n",
    "        print(f\"{num} is odd\")\n",
    "    else:\n",
    "        print(f\"{num} is even\")    "
   ]
  },
  {
   "cell_type": "code",
   "execution_count": 4,
   "id": "4744650e",
   "metadata": {},
   "outputs": [
    {
     "name": "stdout",
     "output_type": "stream",
     "text": [
      "2 is odd\n"
     ]
    }
   ],
   "source": [
    "even_or_odd(2)"
   ]
  },
  {
   "cell_type": "code",
   "execution_count": 5,
   "id": "707bf48a",
   "metadata": {},
   "outputs": [
    {
     "data": {
      "text/plain": [
       "3"
      ]
     },
     "execution_count": 5,
     "metadata": {},
     "output_type": "execute_result"
    }
   ],
   "source": [
    "def add(a,b):\n",
    "    return a+b\n",
    "\n",
    "\n",
    "add(1,2)"
   ]
  },
  {
   "cell_type": "code",
   "execution_count": null,
   "id": "75fc6a10",
   "metadata": {},
   "outputs": [
    {
     "name": "stdout",
     "output_type": "stream",
     "text": [
      "Hello Anurag\n",
      "Hello guest\n"
     ]
    }
   ],
   "source": [
    "##default parameters\n",
    "\n",
    "def greet(name=\"guest\"): ##default \n",
    "    print(f\"Hello {name}\")\n",
    "\n",
    "greet(\"Anurag\")\n",
    "\n",
    "greet()"
   ]
  },
  {
   "cell_type": "code",
   "execution_count": 9,
   "id": "690b42ac",
   "metadata": {},
   "outputs": [
    {
     "name": "stdout",
     "output_type": "stream",
     "text": [
      "1\n",
      "2\n",
      "3\n",
      "4\n",
      "Akarsh\n",
      "Anurag\n"
     ]
    }
   ],
   "source": [
    "##variable length arguments\n",
    "\n",
    "##positional arguments\n",
    "\n",
    "def print_nums(*args):\n",
    "    for num in args:\n",
    "        print(num)\n",
    "\n",
    "print_nums(1,2,3,4,\"Akarsh\", \"Anurag\")        "
   ]
  },
  {
   "cell_type": "code",
   "execution_count": null,
   "id": "3b169d29",
   "metadata": {},
   "outputs": [],
   "source": [
    "##keyword arguments\n",
    "\n",
    "def print_details(**kargs): ##stores parameteres in key-value pairs\n",
    "    for key,value in kargs.items():\n",
    "        print(f\"{key}:{value}\")"
   ]
  },
  {
   "cell_type": "code",
   "execution_count": 12,
   "id": "f968d658",
   "metadata": {},
   "outputs": [
    {
     "name": "stdout",
     "output_type": "stream",
     "text": [
      "name:Andy\n",
      "age:21\n",
      "country:India\n"
     ]
    }
   ],
   "source": [
    "print_details(name=\"Andy\", age=21, country=\"India\")"
   ]
  },
  {
   "cell_type": "markdown",
   "id": "d0861ec0",
   "metadata": {},
   "source": [
    "Examples"
   ]
  },
  {
   "cell_type": "code",
   "execution_count": 20,
   "id": "e4eeb763",
   "metadata": {},
   "outputs": [
    {
     "data": {
      "text/plain": [
       "37.77777777777778"
      ]
     },
     "execution_count": 20,
     "metadata": {},
     "output_type": "execute_result"
    }
   ],
   "source": [
    "##temp conversions\n",
    "\n",
    "def convert_temp(temp, unit):\n",
    "    if unit=='C':\n",
    "        return (temp*9/5)+32\n",
    "    elif unit=='F':\n",
    "        return (temp-32)*5/9\n",
    "    else:\n",
    "        return None\n",
    "\n",
    "convert_temp(100, 'F')"
   ]
  },
  {
   "cell_type": "code",
   "execution_count": 21,
   "id": "a16388da",
   "metadata": {},
   "outputs": [
    {
     "data": {
      "text/plain": [
       "212.0"
      ]
     },
     "execution_count": 21,
     "metadata": {},
     "output_type": "execute_result"
    }
   ],
   "source": [
    "convert_temp(100, 'C')"
   ]
  },
  {
   "cell_type": "code",
   "execution_count": 22,
   "id": "a437ca33",
   "metadata": {},
   "outputs": [],
   "source": [
    "##Password Strength checker\n",
    "\n",
    "def is_pass_strong(password):\n",
    "    if len(password)<8:\n",
    "        return False\n",
    "    if not any(char.isdigit() for char in password):\n",
    "        return False\n",
    "    if not any(char.islower() for char in password):\n",
    "        return False\n",
    "    if not any(char.isupper() for char in password):\n",
    "        return False\n",
    "    if not any(char in '!@#$%^&*()_+`~<>'for char in password):\n",
    "        return False\n",
    "    return True"
   ]
  },
  {
   "cell_type": "code",
   "execution_count": 23,
   "id": "f56f61bb",
   "metadata": {},
   "outputs": [
    {
     "data": {
      "text/plain": [
       "False"
      ]
     },
     "execution_count": 23,
     "metadata": {},
     "output_type": "execute_result"
    }
   ],
   "source": [
    "is_pass_strong(\"an12\")"
   ]
  },
  {
   "cell_type": "code",
   "execution_count": 24,
   "id": "7fa1fd8e",
   "metadata": {},
   "outputs": [
    {
     "data": {
      "text/plain": [
       "True"
      ]
     },
     "execution_count": 24,
     "metadata": {},
     "output_type": "execute_result"
    }
   ],
   "source": [
    "is_pass_strong(\"Anurag@77\")"
   ]
  },
  {
   "cell_type": "code",
   "execution_count": 2,
   "id": "ab55cddf",
   "metadata": {},
   "outputs": [
    {
     "name": "stdout",
     "output_type": "stream",
     "text": [
      "Total cost of items in cart: $6.20\n"
     ]
    }
   ],
   "source": [
    "##calc total cost of items in a cart\n",
    "\n",
    "def calc_total_cost(cart):\n",
    "    total_cost = 0\n",
    "    for item in cart:\n",
    "        total_cost += item['price'] * item['quantity']\n",
    "    return total_cost\n",
    "\n",
    "cart = [\n",
    "    {'name': 'apple', 'price': 0.5, 'quantity': 4},\n",
    "    {'name': 'banana', 'price': 0.3, 'quantity': 6},     \n",
    "    {'name': 'orange', 'price': 0.8, 'quantity': 3}\n",
    "]\n",
    "\n",
    "total_cost = calc_total_cost(cart)\n",
    "print(f\"Total cost of items in cart: ${total_cost:.2f}\")"
   ]
  },
  {
   "cell_type": "code",
   "execution_count": 3,
   "id": "578e73b1",
   "metadata": {},
   "outputs": [
    {
     "name": "stdout",
     "output_type": "stream",
     "text": [
      "True\n",
      "True\n",
      "False\n"
     ]
    }
   ],
   "source": [
    "##check if a string is a palindrome\n",
    "\n",
    "def is_palindrome(s):\n",
    "    s = s.lower().replace(\" \", \"\")\n",
    "    return s[::-1]== s\n",
    "\n",
    "print(is_palindrome(\"Anna\"))\n",
    "print(is_palindrome(\"A man a plan a canal Panama\"))\n",
    "print(is_palindrome(\"Hello\"))"
   ]
  },
  {
   "cell_type": "code",
   "execution_count": 4,
   "id": "07e03ce7",
   "metadata": {},
   "outputs": [
    {
     "name": "stdout",
     "output_type": "stream",
     "text": [
      "120\n",
      "1\n"
     ]
    }
   ],
   "source": [
    "##factorial of a number using recursion\n",
    "def factorial(n):\n",
    "    if n == 0 or n == 1:\n",
    "        return 1\n",
    "    else:\n",
    "        return n * factorial(n - 1)\n",
    "    \n",
    "print(factorial(5)) \n",
    "print(factorial(0))"
   ]
  },
  {
   "cell_type": "code",
   "execution_count": null,
   "id": "42da69ba",
   "metadata": {},
   "outputs": [],
   "source": []
  }
 ],
 "metadata": {
  "kernelspec": {
   "display_name": "Python 3",
   "language": "python",
   "name": "python3"
  },
  "language_info": {
   "codemirror_mode": {
    "name": "ipython",
    "version": 3
   },
   "file_extension": ".py",
   "mimetype": "text/x-python",
   "name": "python",
   "nbconvert_exporter": "python",
   "pygments_lexer": "ipython3",
   "version": "3.10.0"
  }
 },
 "nbformat": 4,
 "nbformat_minor": 5
}
