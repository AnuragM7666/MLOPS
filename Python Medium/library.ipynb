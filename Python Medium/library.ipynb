{
 "cells": [
  {
   "cell_type": "markdown",
   "id": "a306f400",
   "metadata": {},
   "source": [
    "Python Standard Library\n",
    "\n",
    "It is a vast collection of modules and packages that come bundled with python, providing a wide range of functionalities out of the box. "
   ]
  },
  {
   "cell_type": "code",
   "execution_count": 1,
   "id": "b100a4f7",
   "metadata": {},
   "outputs": [
    {
     "name": "stdout",
     "output_type": "stream",
     "text": [
      "array('i', [1, 2, 3, 4, 5])\n"
     ]
    }
   ],
   "source": [
    "import array\n",
    "arr=array.array('i', [1, 2, 3, 4, 5])\n",
    "\n",
    "print(arr)"
   ]
  },
  {
   "cell_type": "code",
   "execution_count": 2,
   "id": "8c6c035e",
   "metadata": {},
   "outputs": [
    {
     "name": "stdout",
     "output_type": "stream",
     "text": [
      "5\n",
      "7\n"
     ]
    }
   ],
   "source": [
    "import random\n",
    "\n",
    "print(random.choice(arr))  # Randomly select an element from the array\n",
    "print(random.randint(1, 10))  # Randomly select an integer between 1 and 10"
   ]
  },
  {
   "cell_type": "code",
   "execution_count": 3,
   "id": "8a15c526",
   "metadata": {},
   "outputs": [
    {
     "name": "stdout",
     "output_type": "stream",
     "text": [
      "d:\\MLOPS\\Python Medium\n",
      "['functions.ipynb', 'import.ipynb', 'Lambda.ipynb', 'library.ipynb', 'package']\n"
     ]
    }
   ],
   "source": [
    "import os\n",
    "\n",
    "print(os.getcwd())  # Print the current working directory\n",
    "print(os.listdir('.'))  # List files in the current directory"
   ]
  },
  {
   "cell_type": "code",
   "execution_count": 4,
   "id": "c8444a17",
   "metadata": {},
   "outputs": [
    {
     "data": {
      "text/plain": [
       "'source_copy.txt'"
      ]
     },
     "execution_count": 4,
     "metadata": {},
     "output_type": "execute_result"
    }
   ],
   "source": [
    "import shutil\n",
    "shutil.copy('source.txt', 'source_copy.txt')  # Copy a file"
   ]
  },
  {
   "cell_type": "code",
   "execution_count": 5,
   "id": "83bb5764",
   "metadata": {},
   "outputs": [
    {
     "name": "stdout",
     "output_type": "stream",
     "text": [
      "{\"name\": \"Alice\", \"age\": 30, \"city\": \"New York\"}\n"
     ]
    }
   ],
   "source": [
    "##data serialization\n",
    "\n",
    "import json\n",
    "data = {'name': 'Alice', 'age': 30, 'city': 'New York'}\n",
    "json_string = json.dumps(data)  # Serialize to JSON string\n",
    "print(json_string)"
   ]
  },
  {
   "cell_type": "code",
   "execution_count": 6,
   "id": "d86a7397",
   "metadata": {},
   "outputs": [
    {
     "name": "stdout",
     "output_type": "stream",
     "text": [
      "{'name': 'Alice', 'age': 30, 'city': 'New York'}\n"
     ]
    }
   ],
   "source": [
    "print(json.loads(json_string))  # Deserialize back to Python object"
   ]
  },
  {
   "cell_type": "code",
   "execution_count": 7,
   "id": "5e7bef3c",
   "metadata": {},
   "outputs": [
    {
     "name": "stdout",
     "output_type": "stream",
     "text": [
      "['Name', 'Age', 'City']\n",
      "['Alice', '30', 'New York']\n",
      "['Bob', '25', 'Los Angeles']\n"
     ]
    }
   ],
   "source": [
    "import csv\n",
    "data = [['Name', 'Age', 'City'], ['Alice', 30, 'New York'], ['Bob', 25, 'Los Angeles']]\n",
    "with open('data.csv', 'w', newline='') as file:\n",
    "    writer = csv.writer(file)\n",
    "    writer.writerows(data)  # Write data to CSV file\n",
    "\n",
    "with open('data.csv', 'r') as file:\n",
    "    reader = csv.reader(file)\n",
    "    for row in reader:\n",
    "        print(row)  # Read and print each row from the CSV file"
   ]
  },
  {
   "cell_type": "code",
   "execution_count": 8,
   "id": "ebed9e98",
   "metadata": {},
   "outputs": [
    {
     "name": "stdout",
     "output_type": "stream",
     "text": [
      "2025-06-21 09:55:31.306414\n",
      "2025-06-26 09:55:31.306414\n"
     ]
    }
   ],
   "source": [
    "from datetime import datetime, timedelta\n",
    "\n",
    "now = datetime.now()  # Get the current date and time\n",
    "print(now)\n",
    "\n",
    "future_date = now + timedelta(days=5)  # Add 5 days to the current date\n",
    "print(future_date)  # Print the future date"
   ]
  },
  {
   "cell_type": "code",
   "execution_count": 9,
   "id": "ef4b5d76",
   "metadata": {},
   "outputs": [
    {
     "name": "stdout",
     "output_type": "stream",
     "text": [
      "1750480012.693151\n",
      "Execution resumed after 2 seconds\n",
      "1750480014.6969721\n"
     ]
    }
   ],
   "source": [
    "import time \n",
    "\n",
    "print(time.time())  # Print the current time in seconds since the epoch\n",
    "time.sleep(2)  # Pause execution for 2 seconds\n",
    "print(\"Execution resumed after 2 seconds\") \n",
    "print(time.time()) # Print a message after the pause"
   ]
  },
  {
   "cell_type": "code",
   "execution_count": 10,
   "id": "f2e10138",
   "metadata": {},
   "outputs": [
    {
     "name": "stdout",
     "output_type": "stream",
     "text": [
      "['123', '456']\n"
     ]
    }
   ],
   "source": [
    "##regular expressions\n",
    "\n",
    "import re\n",
    "\n",
    "pattern = r'\\d+'  # Regular expression pattern to match digits\n",
    "text = 'There are 123 apples and 456 oranges.'  \n",
    "matches = re.findall(pattern, text)  # Find all matches of the pattern in the text\n",
    "print(matches)  # Print the list of matches"
   ]
  },
  {
   "cell_type": "code",
   "execution_count": null,
   "id": "26d1d04e",
   "metadata": {},
   "outputs": [],
   "source": []
  }
 ],
 "metadata": {
  "kernelspec": {
   "display_name": "Python 3",
   "language": "python",
   "name": "python3"
  },
  "language_info": {
   "codemirror_mode": {
    "name": "ipython",
    "version": 3
   },
   "file_extension": ".py",
   "mimetype": "text/x-python",
   "name": "python",
   "nbconvert_exporter": "python",
   "pygments_lexer": "ipython3",
   "version": "3.10.0"
  }
 },
 "nbformat": 4,
 "nbformat_minor": 5
}
