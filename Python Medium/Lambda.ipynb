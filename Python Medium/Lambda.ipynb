{
 "cells": [
  {
   "cell_type": "markdown",
   "id": "52cd2589",
   "metadata": {},
   "source": [
    "Lambda Function\n",
    "\n",
    "Small anonymous functions defined using Lambda keyword. THey can have any number of arguments but only one expression. Used for short operations or as arguments to higher-order functions."
   ]
  },
  {
   "cell_type": "code",
   "execution_count": 1,
   "id": "b7f49d5d",
   "metadata": {},
   "outputs": [
    {
     "data": {
      "text/plain": [
       "<function __main__.<lambda>(arguments)>"
      ]
     },
     "execution_count": 1,
     "metadata": {},
     "output_type": "execute_result"
    }
   ],
   "source": [
    "#syntax\n",
    "\n",
    "lambda arguments: expression"
   ]
  },
  {
   "cell_type": "code",
   "execution_count": 2,
   "id": "ac11cbc4",
   "metadata": {},
   "outputs": [
    {
     "name": "stdout",
     "output_type": "stream",
     "text": [
      "5\n"
     ]
    }
   ],
   "source": [
    "add=lambda a,b: a+b\n",
    "print(add(2,3))"
   ]
  },
  {
   "cell_type": "code",
   "execution_count": 4,
   "id": "f4501d97",
   "metadata": {},
   "outputs": [
    {
     "name": "stdout",
     "output_type": "stream",
     "text": [
      "True\n"
     ]
    }
   ],
   "source": [
    "isEven =lambda num : num%2==0\n",
    "print(isEven(4))"
   ]
  },
  {
   "cell_type": "markdown",
   "id": "e273a238",
   "metadata": {},
   "source": [
    "The Map() function\n",
    "\n",
    "THe map() function applies a given function to all items in an input list(or any other iterable) and returns a map object(an iterator). It's useful ofr transforming data in a list comprehensively."
   ]
  },
  {
   "cell_type": "code",
   "execution_count": 5,
   "id": "78ace4fe",
   "metadata": {},
   "outputs": [],
   "source": [
    "def square(x):\n",
    "    return x*x"
   ]
  },
  {
   "cell_type": "code",
   "execution_count": 6,
   "id": "2c1eb455",
   "metadata": {},
   "outputs": [
    {
     "data": {
      "text/plain": [
       "[1, 4, 9, 16, 25, 36, 49]"
      ]
     },
     "execution_count": 6,
     "metadata": {},
     "output_type": "execute_result"
    }
   ],
   "source": [
    "nums=[1,2,3,4,5,6,7]\n",
    "\n",
    "list(map(square, nums))"
   ]
  },
  {
   "cell_type": "code",
   "execution_count": 7,
   "id": "84685c77",
   "metadata": {},
   "outputs": [
    {
     "data": {
      "text/plain": [
       "[1, 4, 9, 16, 25, 36, 49]"
      ]
     },
     "execution_count": 7,
     "metadata": {},
     "output_type": "execute_result"
    }
   ],
   "source": [
    "#using lambda function\n",
    "\n",
    "list(map(lambda x:x*x, nums))"
   ]
  },
  {
   "cell_type": "code",
   "execution_count": 9,
   "id": "9823e0d2",
   "metadata": {},
   "outputs": [
    {
     "name": "stdout",
     "output_type": "stream",
     "text": [
      "[6, 8, 10, 12]\n"
     ]
    }
   ],
   "source": [
    "l1=[1,2,3,4]\n",
    "l2=[5,6,7,8]\n",
    "\n",
    "addLs=list(map(lambda x,y:x+y, l1, l2))\n",
    "\n",
    "print(addLs)"
   ]
  },
  {
   "cell_type": "code",
   "execution_count": 10,
   "id": "b6435b7e",
   "metadata": {},
   "outputs": [
    {
     "name": "stdout",
     "output_type": "stream",
     "text": [
      "['APPLE', 'BANANA', 'CHERRY', 'DOSA']\n"
     ]
    }
   ],
   "source": [
    "words=['apple', 'banana', 'cherry', 'dosa']\n",
    "up_words=list(map(str.upper, words))\n",
    "print(up_words)"
   ]
  },
  {
   "cell_type": "markdown",
   "id": "9656b005",
   "metadata": {},
   "source": [
    "Filter Function\n",
    "\n",
    "the filter() function constructs an iterator from elements of an iterable for which a function returns true. It is used to filter out items from a list( or any other iterable) based on a condition."
   ]
  },
  {
   "cell_type": "code",
   "execution_count": 13,
   "id": "7793123a",
   "metadata": {},
   "outputs": [
    {
     "name": "stdout",
     "output_type": "stream",
     "text": [
      "[2, 4, 6, 8, 0]\n"
     ]
    }
   ],
   "source": [
    "def even(x):\n",
    "    if x%2==0:\n",
    "        return True\n",
    "\n",
    "ls=[1,2,3,4,5,6,7,8,9,0]\n",
    "\n",
    "ev=list(filter(even, ls))\n",
    "print(ev)"
   ]
  },
  {
   "cell_type": "code",
   "execution_count": 16,
   "id": "feebb4d9",
   "metadata": {},
   "outputs": [
    {
     "name": "stdout",
     "output_type": "stream",
     "text": [
      "[6, 7, 8, 9]\n"
     ]
    }
   ],
   "source": [
    "g5=list(filter(lambda x:x>5, ls))\n",
    "print(g5)"
   ]
  },
  {
   "cell_type": "code",
   "execution_count": 17,
   "id": "398b2180",
   "metadata": {},
   "outputs": [
    {
     "name": "stdout",
     "output_type": "stream",
     "text": [
      "[6, 8]\n"
     ]
    }
   ],
   "source": [
    "ev_andg5=list(filter(lambda x:x>5 and x%2==0, ls))\n",
    "print(ev_andg5)"
   ]
  },
  {
   "cell_type": "code",
   "execution_count": 18,
   "id": "1a25a103",
   "metadata": {},
   "outputs": [
    {
     "data": {
      "text/plain": [
       "[{'name': 'Akarsh', 'age': 25}, {'name': 'Chinmay', 'age': 27}]"
      ]
     },
     "execution_count": 18,
     "metadata": {},
     "output_type": "execute_result"
    }
   ],
   "source": [
    "people=[\n",
    "    {'name':'Anurag', 'age':22},\n",
    "    {'name':'Akarsh', 'age':25},\n",
    "    {'name':'Chinmay', 'age':27}\n",
    "]\n",
    "\n",
    "def g20(person):\n",
    "    return person['age']>24\n",
    "\n",
    "list(filter(g20, people))"
   ]
  },
  {
   "cell_type": "code",
   "execution_count": null,
   "id": "d1ab6c74",
   "metadata": {},
   "outputs": [],
   "source": []
  }
 ],
 "metadata": {
  "kernelspec": {
   "display_name": "Python 3",
   "language": "python",
   "name": "python3"
  },
  "language_info": {
   "codemirror_mode": {
    "name": "ipython",
    "version": 3
   },
   "file_extension": ".py",
   "mimetype": "text/x-python",
   "name": "python",
   "nbconvert_exporter": "python",
   "pygments_lexer": "ipython3",
   "version": "3.10.0"
  }
 },
 "nbformat": 4,
 "nbformat_minor": 5
}
