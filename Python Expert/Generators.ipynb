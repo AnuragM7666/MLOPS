{
 "cells": [
  {
   "cell_type": "markdown",
   "id": "a5c3812c",
   "metadata": {},
   "source": [
    "Generators\n",
    "\n",
    "A way to create iterators. They use the yield keyword to produce a series of values lazily, \n",
    "i.e they generate values on the fly and do not store them in memory."
   ]
  },
  {
   "cell_type": "code",
   "execution_count": null,
   "id": "6cb7f9a8",
   "metadata": {},
   "outputs": [],
   "source": [
    "def square(n):\n",
    "    for i in range(n):#yield is used to produce a value and pause the function's state, allowing it to be resumed later.\n",
    "        yield i * i  # Yielding the square of each number"
   ]
  },
  {
   "cell_type": "code",
   "execution_count": 2,
   "id": "ec56d970",
   "metadata": {},
   "outputs": [
    {
     "data": {
      "text/plain": [
       "<generator object square at 0x000002651C4D7CA0>"
      ]
     },
     "execution_count": 2,
     "metadata": {},
     "output_type": "execute_result"
    }
   ],
   "source": [
    "square(3)"
   ]
  },
  {
   "cell_type": "code",
   "execution_count": 3,
   "id": "8750de94",
   "metadata": {},
   "outputs": [
    {
     "name": "stdout",
     "output_type": "stream",
     "text": [
      "0\n",
      "1\n",
      "4\n"
     ]
    }
   ],
   "source": [
    "for i in square(3):\n",
    "    print(i)  "
   ]
  },
  {
   "cell_type": "code",
   "execution_count": null,
   "id": "06e322f2",
   "metadata": {},
   "outputs": [
    {
     "name": "stdout",
     "output_type": "stream",
     "text": [
      "<class 'generator'>\n"
     ]
    }
   ],
   "source": [
    "a=square(3)\n",
    "print(type(a))  "
   ]
  },
  {
   "cell_type": "code",
   "execution_count": 8,
   "id": "77a049d8",
   "metadata": {},
   "outputs": [
    {
     "ename": "StopIteration",
     "evalue": "",
     "output_type": "error",
     "traceback": [
      "\u001b[1;31m---------------------------------------------------------------------------\u001b[0m",
      "\u001b[1;31mStopIteration\u001b[0m                             Traceback (most recent call last)",
      "Cell \u001b[1;32mIn[8], line 1\u001b[0m\n\u001b[1;32m----> 1\u001b[0m \u001b[38;5;28;43mnext\u001b[39;49m\u001b[43m(\u001b[49m\u001b[43ma\u001b[49m\u001b[43m)\u001b[49m \n",
      "\u001b[1;31mStopIteration\u001b[0m: "
     ]
    }
   ],
   "source": [
    "next(a) "
   ]
  },
  {
   "cell_type": "code",
   "execution_count": 9,
   "id": "d133cf1b",
   "metadata": {},
   "outputs": [],
   "source": [
    "def my_generator():\n",
    "    yield 1\n",
    "    yield 2\n",
    "    yield 3"
   ]
  },
  {
   "cell_type": "code",
   "execution_count": 10,
   "id": "c1086aee",
   "metadata": {},
   "outputs": [],
   "source": [
    "gen = my_generator()"
   ]
  },
  {
   "cell_type": "code",
   "execution_count": 12,
   "id": "9ed91b52",
   "metadata": {},
   "outputs": [
    {
     "data": {
      "text/plain": [
       "2"
      ]
     },
     "execution_count": 12,
     "metadata": {},
     "output_type": "execute_result"
    }
   ],
   "source": [
    "next(gen)  "
   ]
  },
  {
   "cell_type": "markdown",
   "id": "990cbf4c",
   "metadata": {},
   "source": [
    "Generators are useful for reading large files as they allow u to process one line at a time without loading the entire file into memory."
   ]
  },
  {
   "cell_type": "code",
   "execution_count": 13,
   "id": "8462b241",
   "metadata": {},
   "outputs": [],
   "source": [
    "##Reading large files\n",
    "\n",
    "def read_large_file(file_path):\n",
    "    with open(file_path, 'r') as file:\n",
    "        for line in file:\n",
    "            yield line.strip()  # Yield each line without newline characters"
   ]
  },
  {
   "cell_type": "code",
   "execution_count": 14,
   "id": "567a3f27",
   "metadata": {},
   "outputs": [
    {
     "name": "stdout",
     "output_type": "stream",
     "text": [
      "Ilia Topuria is a professional mixed martial artist from Georgia and Spain.\n",
      "He competes in the Ultimate Fighting Championship (UFC) in the featherweight division.\n",
      "Known for his powerful striking and strong grappling skills, Topuria has gained attention for his undefeated record and impressive finishes.\n",
      "He is considered one of the top rising contenders in his weight class and is recognized for his aggressive fighting style and technical proficiency.\n"
     ]
    }
   ],
   "source": [
    "file_path = 'large_file.txt'  \n",
    "for line in read_large_file(file_path):\n",
    "    print(line)  "
   ]
  },
  {
   "cell_type": "code",
   "execution_count": null,
   "id": "3d8695ed",
   "metadata": {},
   "outputs": [],
   "source": []
  }
 ],
 "metadata": {
  "kernelspec": {
   "display_name": "Python 3",
   "language": "python",
   "name": "python3"
  },
  "language_info": {
   "codemirror_mode": {
    "name": "ipython",
    "version": 3
   },
   "file_extension": ".py",
   "mimetype": "text/x-python",
   "name": "python",
   "nbconvert_exporter": "python",
   "pygments_lexer": "ipython3",
   "version": "3.10.0"
  }
 },
 "nbformat": 4,
 "nbformat_minor": 5
}
