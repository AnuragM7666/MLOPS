{
 "cells": [
  {
   "cell_type": "markdown",
   "id": "192cf51a",
   "metadata": {},
   "source": [
    "Decorators\n",
    "\n",
    "a feature in python that allows u to modify the behaviour of a function or class method.\n",
    "Used to add functionality to functions or methods without modifyiing actual code."
   ]
  },
  {
   "cell_type": "code",
   "execution_count": 4,
   "id": "f18e096b",
   "metadata": {},
   "outputs": [
    {
     "data": {
      "text/plain": [
       "' to the Python Expert course!'"
      ]
     },
     "execution_count": 4,
     "metadata": {},
     "output_type": "execute_result"
    }
   ],
   "source": [
    "##function copy\n",
    "\n",
    "def welcome():\n",
    "    return (\" to the Python Expert course!\")\n",
    "\n",
    "welcome()"
   ]
  },
  {
   "cell_type": "code",
   "execution_count": 7,
   "id": "1d2b039c",
   "metadata": {},
   "outputs": [
    {
     "name": "stdout",
     "output_type": "stream",
     "text": [
      " to the Python Expert course!\n"
     ]
    }
   ],
   "source": [
    "wel= welcome()\n",
    "\n",
    "print(wel)"
   ]
  },
  {
   "cell_type": "code",
   "execution_count": null,
   "id": "a982b672",
   "metadata": {},
   "outputs": [
    {
     "name": "stdout",
     "output_type": "stream",
     "text": [
      " to the Python Expert course!\n"
     ]
    }
   ],
   "source": [
    "#in function copy, even if we delete the welcome function, the variable wel will still exist\n",
    "del welcome\n",
    "\n",
    "print(wel)"
   ]
  },
  {
   "cell_type": "code",
   "execution_count": 9,
   "id": "a99041e2",
   "metadata": {},
   "outputs": [],
   "source": [
    "#closures\n",
    "\n",
    "def outer_function(func,lst):\n",
    "    def inner_function():\n",
    "        print(\"This is the inner function.\")\n",
    "        print(func(lst))\n",
    "        print(\"Hello from the inner function!\")\n",
    "    # The inner function can access the outer function's variables\n",
    "    return inner_function()"
   ]
  },
  {
   "cell_type": "code",
   "execution_count": 10,
   "id": "2aa432a4",
   "metadata": {},
   "outputs": [
    {
     "name": "stdout",
     "output_type": "stream",
     "text": [
      "This is the inner function.\n",
      "3\n",
      "Hello from the inner function!\n"
     ]
    }
   ],
   "source": [
    "outer_function(len, [1, 2, 3])"
   ]
  },
  {
   "cell_type": "code",
   "execution_count": 19,
   "id": "b22aea61",
   "metadata": {},
   "outputs": [],
   "source": [
    "##Decorators\n",
    "\n",
    "def welcome(func):\n",
    "    def inner_function():\n",
    "        print(\"This is the inner function.\")\n",
    "        func()\n",
    "        return \"Hello from the inner function!\"\n",
    "    \n",
    "    return inner_function()\n",
    "\n",
    "def sayonara():\n",
    "    print(\"Goodbye from the sayonara function!\")\n"
   ]
  },
  {
   "cell_type": "code",
   "execution_count": null,
   "id": "be665cba",
   "metadata": {},
   "outputs": [
    {
     "name": "stdout",
     "output_type": "stream",
     "text": [
      "This is the inner function.\n",
      "Goodbye from the sayonara function!\n"
     ]
    }
   ],
   "source": [
    "@welcome ## This is a decorator,it wraps the sayonara function with the welcome function\n",
    "def sayonara():\n",
    "    print(\"Goodbye from the sayonara function!\")"
   ]
  },
  {
   "cell_type": "code",
   "execution_count": 21,
   "id": "32b0f1c8",
   "metadata": {},
   "outputs": [],
   "source": [
    "def my_decorator(func):\n",
    "    def wrapper():\n",
    "        print(\"Something is happening before the function is called.\")\n",
    "        func()\n",
    "        print(\"Something is happening after the function is called.\")\n",
    "    return wrapper"
   ]
  },
  {
   "cell_type": "code",
   "execution_count": 22,
   "id": "ef3606d8",
   "metadata": {},
   "outputs": [],
   "source": [
    "@my_decorator\n",
    "def say_hello():\n",
    "    print(\"Hello!\")"
   ]
  },
  {
   "cell_type": "code",
   "execution_count": 23,
   "id": "33e8ba8a",
   "metadata": {},
   "outputs": [
    {
     "name": "stdout",
     "output_type": "stream",
     "text": [
      "Something is happening before the function is called.\n",
      "Hello!\n",
      "Something is happening after the function is called.\n"
     ]
    }
   ],
   "source": [
    "say_hello()"
   ]
  },
  {
   "cell_type": "code",
   "execution_count": 28,
   "id": "e8f20ddc",
   "metadata": {},
   "outputs": [],
   "source": [
    "##decorators with arguments\n",
    "\n",
    "def repeat(n):\n",
    "    def decorator(func):\n",
    "        def wrapper(*args, **kwargs):\n",
    "            for _ in range(n):  \n",
    "                func(*args, **kwargs)\n",
    "        return wrapper\n",
    "    return decorator"
   ]
  },
  {
   "cell_type": "code",
   "execution_count": 29,
   "id": "d93d87ae",
   "metadata": {},
   "outputs": [],
   "source": [
    "@repeat(4)\n",
    "def greet(name):\n",
    "    print(f\"Hello, {name}!\")\n"
   ]
  },
  {
   "cell_type": "code",
   "execution_count": 30,
   "id": "3c83ba1c",
   "metadata": {},
   "outputs": [
    {
     "name": "stdout",
     "output_type": "stream",
     "text": [
      "Hello, Anurag!\n",
      "Hello, Anurag!\n",
      "Hello, Anurag!\n",
      "Hello, Anurag!\n"
     ]
    }
   ],
   "source": [
    "greet(\"Anurag\")"
   ]
  },
  {
   "cell_type": "code",
   "execution_count": null,
   "id": "ed376b9e",
   "metadata": {},
   "outputs": [],
   "source": []
  }
 ],
 "metadata": {
  "kernelspec": {
   "display_name": "Python 3",
   "language": "python",
   "name": "python3"
  },
  "language_info": {
   "codemirror_mode": {
    "name": "ipython",
    "version": 3
   },
   "file_extension": ".py",
   "mimetype": "text/x-python",
   "name": "python",
   "nbconvert_exporter": "python",
   "pygments_lexer": "ipython3",
   "version": "3.10.0"
  }
 },
 "nbformat": 4,
 "nbformat_minor": 5
}
