{
 "cells": [
  {
   "cell_type": "markdown",
   "id": "192cf51a",
   "metadata": {},
   "source": [
    "Decorators\n",
    "\n",
    "a feature in python that allows u to modify the behaviour of a function or class method.\n",
    "Used to add functionality to functions or methods without modifyiing actual code."
   ]
  },
  {
   "cell_type": "code",
   "execution_count": 4,
   "id": "f18e096b",
   "metadata": {},
   "outputs": [
    {
     "data": {
      "text/plain": [
       "' to the Python Expert course!'"
      ]
     },
     "execution_count": 4,
     "metadata": {},
     "output_type": "execute_result"
    }
   ],
   "source": [
    "##function copy\n",
    "\n",
    "def welcome():\n",
    "    return (\" to the Python Expert course!\")\n",
    "\n",
    "welcome()"
   ]
  },
  {
   "cell_type": "code",
   "execution_count": 7,
   "id": "1d2b039c",
   "metadata": {},
   "outputs": [
    {
     "name": "stdout",
     "output_type": "stream",
     "text": [
      " to the Python Expert course!\n"
     ]
    }
   ],
   "source": [
    "wel= welcome()\n",
    "\n",
    "print(wel)"
   ]
  },
  {
   "cell_type": "code",
   "execution_count": null,
   "id": "a982b672",
   "metadata": {},
   "outputs": [
    {
     "name": "stdout",
     "output_type": "stream",
     "text": [
      " to the Python Expert course!\n"
     ]
    }
   ],
   "source": [
    "#in function copy, even if we delete the welcome function, the variable wel will still exist\n",
    "del welcome\n",
    "\n",
    "print(wel)"
   ]
  },
  {
   "cell_type": "code",
   "execution_count": 26,
   "id": "a99041e2",
   "metadata": {},
   "outputs": [],
   "source": [
    "#closures\n",
    "\n",
    "def outer_function(msg):\n",
    "    def inner_function():\n",
    "        print(msg)\n",
    "        return \"Hello from the inner function!\"\n",
    "    # The inner function can access the outer function's variables\n",
    "    return inner_function()"
   ]
  },
  {
   "cell_type": "code",
   "execution_count": 27,
   "id": "6e3c4888",
   "metadata": {},
   "outputs": [
    {
     "name": "stdout",
     "output_type": "stream",
     "text": [
      "welcome to the Python\n"
     ]
    },
    {
     "data": {
      "text/plain": [
       "'Hello from the inner function!'"
      ]
     },
     "execution_count": 27,
     "metadata": {},
     "output_type": "execute_result"
    }
   ],
   "source": [
    "outer_function(\"welcome to the Python\")"
   ]
  },
  {
   "cell_type": "code",
   "execution_count": null,
   "id": "2aa432a4",
   "metadata": {},
   "outputs": [],
   "source": []
  }
 ],
 "metadata": {
  "kernelspec": {
   "display_name": "Python 3",
   "language": "python",
   "name": "python3"
  },
  "language_info": {
   "codemirror_mode": {
    "name": "ipython",
    "version": 3
   },
   "file_extension": ".py",
   "mimetype": "text/x-python",
   "name": "python",
   "nbconvert_exporter": "python",
   "pygments_lexer": "ipython3",
   "version": "3.10.0"
  }
 },
 "nbformat": 4,
 "nbformat_minor": 5
}
