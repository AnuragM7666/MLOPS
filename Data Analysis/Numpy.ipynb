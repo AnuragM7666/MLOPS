{
 "cells": [
  {
   "cell_type": "markdown",
   "id": "c2e4e32f",
   "metadata": {},
   "source": [
    "Numpy\n",
    "\n",
    "Numpy is a powerful Python library used for numerical computing. It provides support for large, multi-dimensional arrays and matrices, along with a collection of mathematical functions to operate on these arrays efficiently."
   ]
  },
  {
   "cell_type": "code",
   "execution_count": 2,
   "id": "491bb296",
   "metadata": {},
   "outputs": [
    {
     "name": "stdout",
     "output_type": "stream",
     "text": [
      "1D Array: [1 2 3 4 5]\n",
      "2D Array:\n",
      " [[1 2 3]\n",
      " [4 5 6]]\n"
     ]
    }
   ],
   "source": [
    "import numpy as np\n",
    "\n",
    "# Create a 1-dimensional array\n",
    "arr = np.array([1, 2, 3, 4, 5])\n",
    "print(\"1D Array:\", arr)\n",
    "\n",
    "# Create a 2-dimensional array\n",
    "arr2d = np.array([[1, 2, 3], [4, 5, 6]])\n",
    "print(\"2D Array:\\n\", arr2d)"
   ]
  },
  {
   "cell_type": "code",
   "execution_count": null,
   "id": "50fea928",
   "metadata": {},
   "outputs": [
    {
     "name": "stdout",
     "output_type": "stream",
     "text": [
      "Original array: [0 2 4 6 8]\n",
      "Shape of arr: (5,)\n",
      "Reshaped array (3x4):\n",
      " [[0 2 4 6 8]]\n",
      "Shape of arr_reshaped: (1, 5)\n"
     ]
    }
   ],
   "source": [
    "arr = np.arange(0,10,2)\n",
    "print(\"Original array:\", arr)\n",
    "\n",
    "# Checking the shape of the array\n",
    "print(\"Shape of arr:\", arr.shape)\n",
    "\n",
    "# Reshaping the array to 3 rows and 4 columns\n",
    "arr_reshaped = arr.reshape(1,5)\n",
    "print(\"Reshaped array (1*5):\\n\", arr_reshaped)\n",
    "\n",
    "# Checking the shape of the reshaped array\n",
    "print(\"Shape of arr_reshaped:\",arr_reshaped.shape)"
   ]
  },
  {
   "cell_type": "code",
   "execution_count": 5,
   "id": "b6976f69",
   "metadata": {},
   "outputs": [
    {
     "data": {
      "text/plain": [
       "array([[1., 1., 1.],\n",
       "       [1., 1., 1.]])"
      ]
     },
     "execution_count": 5,
     "metadata": {},
     "output_type": "execute_result"
    }
   ],
   "source": [
    "np.ones((2, 3))  # Create a 2x3 array of ones"
   ]
  },
  {
   "cell_type": "code",
   "execution_count": 6,
   "id": "a84aa0ef",
   "metadata": {},
   "outputs": [
    {
     "data": {
      "text/plain": [
       "array([[1., 0., 0.],\n",
       "       [0., 1., 0.],\n",
       "       [0., 0., 1.]])"
      ]
     },
     "execution_count": 6,
     "metadata": {},
     "output_type": "execute_result"
    }
   ],
   "source": [
    "#identity matrix\n",
    "np.eye(3)  # Create a 3x3 identity matrix"
   ]
  },
  {
   "cell_type": "code",
   "execution_count": null,
   "id": "43f98515",
   "metadata": {},
   "outputs": [
    {
     "name": "stdout",
     "output_type": "stream",
     "text": [
      "Original array: [0 2 4 6 8]\n",
      "Shape of arr: (5,)\n",
      "Number of dimensions: 1\n",
      "Data type of elements: int64\n",
      "Size of each element in bytes: 8\n",
      "Total number of elements: 5\n"
     ]
    }
   ],
   "source": [
    "#attributes of the array\n",
    "print(\"Original array:\", arr)\n",
    "print(\"Shape of arr:\", arr.shape)\n",
    "print(\"Number of dimensions:\", arr.ndim)\n",
    "print(\"Data type of elements:\", arr.dtype)\n",
    "print(\"Size of each element in bytes:\", arr.itemsize)\n",
    "print(\"Total number of elements:\", arr.size)"
   ]
  },
  {
   "cell_type": "code",
   "execution_count": 8,
   "id": "01ad904b",
   "metadata": {},
   "outputs": [
    {
     "name": "stdout",
     "output_type": "stream",
     "text": [
      "Element-wise addition: [5 7 9]\n",
      "Element-wise multiplication: [ 4 10 18]\n"
     ]
    }
   ],
   "source": [
    "#numPy vectorized operations\n",
    "arr1 = np.array([1, 2, 3])\n",
    "arr2 = np.array([4, 5, 6])\n",
    "\n",
    "# Element-wise addition\n",
    "arr_sum = arr1 + arr2\n",
    "print(\"Element-wise addition:\", arr_sum)\n",
    "\n",
    "# Element-wise multiplication\n",
    "arr_product = arr1 * arr2   \n",
    "print(\"Element-wise multiplication:\", arr_product)"
   ]
  },
  {
   "cell_type": "code",
   "execution_count": 9,
   "id": "a586fac6",
   "metadata": {},
   "outputs": [
    {
     "name": "stdout",
     "output_type": "stream",
     "text": [
      "Square root of each element: [1.         1.41421356 1.73205081 2.         2.23606798]\n",
      "Exponential of each element: [  2.71828183   7.3890561   20.08553692  54.59815003 148.4131591 ]\n",
      "Sine of each element: [ 0.84147098  0.90929743  0.14112001 -0.7568025  -0.95892427]\n",
      "Logarithm of each element: [0.         0.69314718 1.09861229 1.38629436 1.60943791]\n"
     ]
    }
   ],
   "source": [
    "#Universal functions (ufuncs)\n",
    "\n",
    "arr = np.array([1, 2, 3, 4, 5])\n",
    "# Square root of each element\n",
    "arr_sqrt = np.sqrt(arr)\n",
    "print(\"Square root of each element:\", arr_sqrt)\n",
    "# Exponential of each element\n",
    "arr_exp = np.exp(arr)\n",
    "print(\"Exponential of each element:\", arr_exp)\n",
    "# Sine of each element\n",
    "arr_sin = np.sin(arr)\n",
    "print(\"Sine of each element:\", arr_sin)\n",
    "# Logarithm of each element\n",
    "arr_log = np.log(arr)\n",
    "print(\"Logarithm of each element:\", arr_log)"
   ]
  },
  {
   "cell_type": "code",
   "execution_count": 13,
   "id": "29a93d87",
   "metadata": {},
   "outputs": [
    {
     "name": "stdout",
     "output_type": "stream",
     "text": [
      "First element: 1\n"
     ]
    }
   ],
   "source": [
    "#array indexing and slicing\n",
    "arr = np.array([[1, 2, 3, 4, 5],[6, 7, 8, 9, 10], [11, 12, 13, 14, 15]])\n",
    "\n",
    "# Accessing elements\n",
    "print(\"First element:\", arr[0][0])\n"
   ]
  },
  {
   "cell_type": "code",
   "execution_count": 14,
   "id": "cd2a0d3a",
   "metadata": {},
   "outputs": [
    {
     "name": "stdout",
     "output_type": "stream",
     "text": [
      "[[ 6  7  8  9 10]\n",
      " [11 12 13 14 15]]\n"
     ]
    }
   ],
   "source": [
    "print(arr[1:])"
   ]
  },
  {
   "cell_type": "code",
   "execution_count": 16,
   "id": "c33388f3",
   "metadata": {},
   "outputs": [
    {
     "name": "stdout",
     "output_type": "stream",
     "text": [
      "[[ 8  9 10]\n",
      " [13 14 15]]\n"
     ]
    }
   ],
   "source": [
    "print(arr[1:,2:])"
   ]
  },
  {
   "cell_type": "code",
   "execution_count": 18,
   "id": "a88a1ca3",
   "metadata": {},
   "outputs": [
    {
     "name": "stdout",
     "output_type": "stream",
     "text": [
      "[[ 1  2  3  4  5]\n",
      " [ 6  7  8  9 10]]\n"
     ]
    }
   ],
   "source": [
    "print(arr[:2])"
   ]
  },
  {
   "cell_type": "code",
   "execution_count": 19,
   "id": "d1246ab5",
   "metadata": {},
   "outputs": [
    {
     "name": "stdout",
     "output_type": "stream",
     "text": [
      "[[  1   2   3   4   5]\n",
      " [100 100 100 100 100]\n",
      " [100 100 100 100 100]]\n"
     ]
    }
   ],
   "source": [
    "#modifying the array\n",
    "arr[1:]=100\n",
    "print(arr)"
   ]
  },
  {
   "cell_type": "code",
   "execution_count": 3,
   "id": "05334493",
   "metadata": {},
   "outputs": [
    {
     "name": "stdout",
     "output_type": "stream",
     "text": [
      "[-1.41421356 -0.70710678  0.          0.70710678  1.41421356]\n"
     ]
    }
   ],
   "source": [
    "#normalization\n",
    "\n",
    "data=np.array([1,2,3,4,5])\n",
    "\n",
    "mean=np.mean(data)\n",
    "std_dev=np.std(data)\n",
    "\n",
    "#normalized data\n",
    "normal_data=(data-mean)/std_dev\n",
    "print(normal_data)"
   ]
  },
  {
   "cell_type": "code",
   "execution_count": 7,
   "id": "5483cb75",
   "metadata": {},
   "outputs": [
    {
     "name": "stdout",
     "output_type": "stream",
     "text": [
      "[False False  True  True  True]\n",
      "[3 4 5]\n"
     ]
    }
   ],
   "source": [
    "#logical operation\n",
    "\n",
    "da=np.array([1,2,3,4,5])\n",
    "\n",
    "print(da>2)\n",
    "print(da[da>2])"
   ]
  },
  {
   "cell_type": "code",
   "execution_count": null,
   "id": "987cd4ae",
   "metadata": {},
   "outputs": [],
   "source": []
  }
 ],
 "metadata": {
  "kernelspec": {
   "display_name": "Python 3",
   "language": "python",
   "name": "python3"
  },
  "language_info": {
   "codemirror_mode": {
    "name": "ipython",
    "version": 3
   },
   "file_extension": ".py",
   "mimetype": "text/x-python",
   "name": "python",
   "nbconvert_exporter": "python",
   "pygments_lexer": "ipython3",
   "version": "3.10.0"
  }
 },
 "nbformat": 4,
 "nbformat_minor": 5
}
