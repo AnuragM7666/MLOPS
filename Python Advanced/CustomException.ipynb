{
 "cells": [
  {
   "cell_type": "code",
   "execution_count": 1,
   "id": "c1ff19c1",
   "metadata": {},
   "outputs": [],
   "source": [
    "##custom exception (raise and throw exceptions)\n",
    "\n",
    "class Error(Exception):\n",
    "    \"\"\"Base class for other exceptions\"\"\"\n",
    "    pass\n",
    "\n",
    "class dobException(Error):\n",
    "    pass"
   ]
  },
  {
   "cell_type": "code",
   "execution_count": 2,
   "id": "a668e4fd",
   "metadata": {},
   "outputs": [
    {
     "name": "stdout",
     "output_type": "stream",
     "text": [
      "You are eligible for the job\n"
     ]
    }
   ],
   "source": [
    "year=int(input(\"Enter your year of birth: \"))\n",
    "age=2025-year\n",
    "\n",
    "try:\n",
    "    if age>=20 and age<=30:\n",
    "        print(\"You are eligible for the job\")\n",
    "    else:\n",
    "        raise dobException\n",
    "except dobException:\n",
    "    print(\"You are not eligible for the job\")"
   ]
  },
  {
   "cell_type": "code",
   "execution_count": null,
   "id": "a0e75013",
   "metadata": {},
   "outputs": [],
   "source": []
  }
 ],
 "metadata": {
  "kernelspec": {
   "display_name": "Python 3",
   "language": "python",
   "name": "python3"
  },
  "language_info": {
   "codemirror_mode": {
    "name": "ipython",
    "version": 3
   },
   "file_extension": ".py",
   "mimetype": "text/x-python",
   "name": "python",
   "nbconvert_exporter": "python",
   "pygments_lexer": "ipython3",
   "version": "3.10.0"
  }
 },
 "nbformat": 4,
 "nbformat_minor": 5
}
