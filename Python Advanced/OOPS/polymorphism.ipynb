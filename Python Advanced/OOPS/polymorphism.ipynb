{
 "cells": [
  {
   "cell_type": "markdown",
   "id": "21ab8d29",
   "metadata": {},
   "source": [
    "Polymorphism\n",
    "\n",
    "It allows objects of different classes to be treated as objects of a common superclass. It provides a way to perform a single action in different forms. It is typically achieved through method overriding and interfaces."
   ]
  },
  {
   "cell_type": "markdown",
   "id": "0b774fb6",
   "metadata": {},
   "source": [
    "Method Overriding \n",
    "\n",
    "It allows a child class to provide a specific implementation of a method that is already defined in its parent class."
   ]
  },
  {
   "cell_type": "code",
   "execution_count": 3,
   "id": "a539c1f3",
   "metadata": {},
   "outputs": [
    {
     "name": "stdout",
     "output_type": "stream",
     "text": [
      "Dog says: Woof!\n",
      "Cat says: Meow!\n",
      "Woof!\n",
      "Meow!\n"
     ]
    }
   ],
   "source": [
    "#base class\n",
    "class Animal:\n",
    "    def speak(self):\n",
    "        return \"Some sound\"\n",
    "## derived classes\n",
    "class Dog(Animal):\n",
    "    def speak(self):\n",
    "        return \"Woof!\"\n",
    "\n",
    "class Cat(Animal):\n",
    "    def speak(self):\n",
    "        return \"Meow!\"\n",
    "\n",
    "def animal_sound(animal):\n",
    "    print(animal.speak())\n",
    "\n",
    "# Example usage\n",
    "\n",
    "dog = Dog()\n",
    "cat = Cat()\n",
    "print(\"Dog says:\",dog.speak())\n",
    "print(\"Cat says:\", cat.speak())\n",
    "\n",
    "animal_sound(dog)  \n",
    "animal_sound(cat)\n"
   ]
  },
  {
   "cell_type": "code",
   "execution_count": 4,
   "id": "4405f804",
   "metadata": {},
   "outputs": [
    {
     "name": "stdout",
     "output_type": "stream",
     "text": [
      "Area: 50\n",
      "Area: 16\n"
     ]
    }
   ],
   "source": [
    "#polymorphism with functions and methods\n",
    "\n",
    "class Shape:\n",
    "    def area(self):\n",
    "        return 0\n",
    "\n",
    "class Rectangle(Shape):\n",
    "    def __init__(self, width, height):\n",
    "        self.width = width\n",
    "        self.height = height\n",
    "\n",
    "    def area(self):\n",
    "        return self.width * self.height\n",
    "\n",
    "class Square(Shape):\n",
    "    def __init__(self, side):\n",
    "        self.side = side\n",
    "\n",
    "    def area(self):\n",
    "        return self.side * self.side\n",
    "\n",
    "# Function to demonstrate polymorphism\n",
    "def print_area(shape):\n",
    "    print(\"Area:\", shape.area())\n",
    "\n",
    "# Example usage\n",
    "rectangle = Rectangle(5, 10)\n",
    "square = Square(4)\n",
    "print_area(rectangle)  \n",
    "print_area(square)     "
   ]
  },
  {
   "cell_type": "markdown",
   "id": "4a6d70ae",
   "metadata": {},
   "source": [
    "Polymorphism with Abstract Base Class \n",
    "\n",
    "ABCs are used to define common methods for a group of related objects. They can enforce that derived classes implement particular methods, promoting consistency accross different implementations."
   ]
  },
  {
   "cell_type": "code",
   "execution_count": 5,
   "id": "40341008",
   "metadata": {},
   "outputs": [
    {
     "name": "stdout",
     "output_type": "stream",
     "text": [
      "Car engine started\n",
      "Motorcycle engine started\n"
     ]
    }
   ],
   "source": [
    "from abc import ABC, abstractmethod\n",
    "# Abstract Base Class\n",
    "class Vehicle(ABC):\n",
    "    @abstractmethod\n",
    "    def start_engine(self):\n",
    "        pass\n",
    "\n",
    "class Car(Vehicle):\n",
    "    def start_engine(self):\n",
    "        return \"Car engine started\"\n",
    "\n",
    "class Motorcycle(Vehicle):\n",
    "    def start_engine(self):\n",
    "        return \"Motorcycle engine started\"\n",
    "\n",
    "def vehicle_start(vehicle):\n",
    "    print(vehicle.start_engine())\n",
    "\n",
    "# Example usage\n",
    "car = Car()\n",
    "motorcycle = Motorcycle()   \n",
    "vehicle_start(car)\n",
    "vehicle_start(motorcycle)\n"
   ]
  },
  {
   "cell_type": "code",
   "execution_count": null,
   "id": "6a4f0664",
   "metadata": {},
   "outputs": [],
   "source": []
  }
 ],
 "metadata": {
  "kernelspec": {
   "display_name": "Python 3",
   "language": "python",
   "name": "python3"
  },
  "language_info": {
   "codemirror_mode": {
    "name": "ipython",
    "version": 3
   },
   "file_extension": ".py",
   "mimetype": "text/x-python",
   "name": "python",
   "nbconvert_exporter": "python",
   "pygments_lexer": "ipython3",
   "version": "3.10.0"
  }
 },
 "nbformat": 4,
 "nbformat_minor": 5
}
