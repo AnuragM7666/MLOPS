{
 "cells": [
  {
   "cell_type": "markdown",
   "id": "63045b7e",
   "metadata": {},
   "source": [
    "Abstraction\n",
    "\n",
    "It is the concept of hiding the complex implementation details and showing onlt the necessary features of an object. It helps in reducing programming complexity and effort."
   ]
  },
  {
   "cell_type": "code",
   "execution_count": null,
   "id": "b0e15b2e",
   "metadata": {},
   "outputs": [
    {
     "name": "stdout",
     "output_type": "stream",
     "text": [
      "Starting the car engine\n",
      "Driving the vehicle\n"
     ]
    }
   ],
   "source": [
    "from abc import ABC, abstractmethod\n",
    "\n",
    "#abstract base class\n",
    "class Vehicle(ABC):\n",
    "    def drive(self):\n",
    "        print(\"Driving the vehicle\")\n",
    "\n",
    "    @abstractmethod\n",
    "    def start_engine(self):\n",
    "        pass\n",
    "\n",
    "class Car(Vehicle):\n",
    "    def start_engine(self):\n",
    "        print(\"Starting the car engine\")\n",
    "\n",
    "def operate_vehicle(vehicle):\n",
    "    vehicle.start_engine()\n",
    "    vehicle.drive()\n",
    "\n",
    "car = Car()\n",
    "operate_vehicle(car) "
   ]
  },
  {
   "cell_type": "code",
   "execution_count": null,
   "id": "f2570e97",
   "metadata": {},
   "outputs": [],
   "source": []
  }
 ],
 "metadata": {
  "kernelspec": {
   "display_name": "Python 3",
   "language": "python",
   "name": "python3"
  },
  "language_info": {
   "codemirror_mode": {
    "name": "ipython",
    "version": 3
   },
   "file_extension": ".py",
   "mimetype": "text/x-python",
   "name": "python",
   "nbconvert_exporter": "python",
   "pygments_lexer": "ipython3",
   "version": "3.10.0"
  }
 },
 "nbformat": 4,
 "nbformat_minor": 5
}
