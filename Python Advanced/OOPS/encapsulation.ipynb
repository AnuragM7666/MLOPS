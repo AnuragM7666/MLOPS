{
 "cells": [
  {
   "cell_type": "markdown",
   "id": "7eacc22d",
   "metadata": {},
   "source": [
    "Encapsulation\n",
    "\n",
    "It is the concept of wrapping data(variables) and methods(functions) together as a ingle unit. It restricts direct access to some of the object's components, which is a mean of preventing accidental interference and misuse of the data."
   ]
  },
  {
   "cell_type": "code",
   "execution_count": 1,
   "id": "9da89dfc",
   "metadata": {},
   "outputs": [],
   "source": [
    "#encapsulation with getters and setters\n",
    "#public, private, protected variables or access modifiers\n",
    "\n",
    "class Person:\n",
    "    def __init__(self, name, age,gender):\n",
    "        self.__name = name  # private variable\n",
    "        self._age = age   # protected variable\n",
    "        self.gender = gender  # public variable\n"
   ]
  },
  {
   "cell_type": "code",
   "execution_count": 4,
   "id": "957a79cc",
   "metadata": {},
   "outputs": [
    {
     "data": {
      "text/plain": [
       "['_Person__name',\n",
       " '__class__',\n",
       " '__delattr__',\n",
       " '__dict__',\n",
       " '__dir__',\n",
       " '__doc__',\n",
       " '__eq__',\n",
       " '__format__',\n",
       " '__ge__',\n",
       " '__getattribute__',\n",
       " '__gt__',\n",
       " '__hash__',\n",
       " '__init__',\n",
       " '__init_subclass__',\n",
       " '__le__',\n",
       " '__lt__',\n",
       " '__module__',\n",
       " '__ne__',\n",
       " '__new__',\n",
       " '__reduce__',\n",
       " '__reduce_ex__',\n",
       " '__repr__',\n",
       " '__setattr__',\n",
       " '__sizeof__',\n",
       " '__str__',\n",
       " '__subclasshook__',\n",
       " '__weakref__',\n",
       " '_age',\n",
       " 'gender']"
      ]
     },
     "execution_count": 4,
     "metadata": {},
     "output_type": "execute_result"
    }
   ],
   "source": [
    "person=Person(\"John Doe\", 30, \"Male\")\n",
    "\n",
    "dir(person)  # This will show all attributes including private and protected ones\n"
   ]
  },
  {
   "cell_type": "code",
   "execution_count": 6,
   "id": "cafacb08",
   "metadata": {},
   "outputs": [
    {
     "ename": "AttributeError",
     "evalue": "'Person' object has no attribute '__name'",
     "output_type": "error",
     "traceback": [
      "\u001b[1;31m---------------------------------------------------------------------------\u001b[0m",
      "\u001b[1;31mAttributeError\u001b[0m                            Traceback (most recent call last)",
      "Cell \u001b[1;32mIn[6], line 4\u001b[0m\n\u001b[0;32m      1\u001b[0m \u001b[38;5;28;01mdef\u001b[39;00m\u001b[38;5;250m \u001b[39m\u001b[38;5;21mget_name\u001b[39m(\u001b[38;5;28mself\u001b[39m):    \n\u001b[0;32m      2\u001b[0m     \u001b[38;5;28;01mreturn\u001b[39;00m \u001b[38;5;28mself\u001b[39m\u001b[38;5;241m.\u001b[39m__name\n\u001b[1;32m----> 4\u001b[0m \u001b[43mget_name\u001b[49m\u001b[43m(\u001b[49m\u001b[43mperson\u001b[49m\u001b[43m)\u001b[49m  \u001b[38;5;66;03m# This will raise an error because __name is private and cannot be accessed directly outside the class\u001b[39;00m\n",
      "Cell \u001b[1;32mIn[6], line 2\u001b[0m, in \u001b[0;36mget_name\u001b[1;34m(self)\u001b[0m\n\u001b[0;32m      1\u001b[0m \u001b[38;5;28;01mdef\u001b[39;00m\u001b[38;5;250m \u001b[39m\u001b[38;5;21mget_name\u001b[39m(\u001b[38;5;28mself\u001b[39m):    \n\u001b[1;32m----> 2\u001b[0m     \u001b[38;5;28;01mreturn\u001b[39;00m \u001b[38;5;28;43mself\u001b[39;49m\u001b[38;5;241;43m.\u001b[39;49m\u001b[43m__name\u001b[49m\n",
      "\u001b[1;31mAttributeError\u001b[0m: 'Person' object has no attribute '__name'"
     ]
    }
   ],
   "source": [
    "def get_name(self):    \n",
    "    return self.__name\n",
    "\n",
    "get_name(person)  # This will raise an error because __name is private and cannot be accessed directly outside the class"
   ]
  },
  {
   "cell_type": "code",
   "execution_count": null,
   "id": "a94b8acf",
   "metadata": {},
   "outputs": [],
   "source": [
    "class Employee(Person):\n",
    "    def __init__(self, name, age,gender):\n",
    "        super().__init__(name, age,gender)\n",
    "\n",
    "employee = Employee(\"Jane Doe\", 34,\"Female\")\n"
   ]
  },
  {
   "cell_type": "code",
   "execution_count": null,
   "id": "5e4a8a32",
   "metadata": {},
   "outputs": [
    {
     "name": "stdout",
     "output_type": "stream",
     "text": [
      "34\n"
     ]
    }
   ],
   "source": [
    "#we can access protected variables directly from the derived class\n",
    "print(employee._age)  # Accessing protected variable"
   ]
  },
  {
   "cell_type": "code",
   "execution_count": 12,
   "id": "67514c44",
   "metadata": {},
   "outputs": [
    {
     "name": "stdout",
     "output_type": "stream",
     "text": [
      "John\n",
      "35\n",
      "Age must be positive\n"
     ]
    }
   ],
   "source": [
    "#Encapsulation with getters and Setters\n",
    "\n",
    "class Person:\n",
    "    def __init__(self, name, age):\n",
    "        self.__name = name  # private variable\n",
    "        self.__age = age   \n",
    "# Getters\n",
    "    def get_name(self):\n",
    "        return self.__name\n",
    "\n",
    "    def get_age(self):\n",
    "        return self.__age\n",
    "\n",
    "    # Setters\n",
    "    def set_age(self, age):\n",
    "        if age> 0:\n",
    "            self.__age = age\n",
    "        else:\n",
    "            print(\"Age must be positive\")\n",
    "\n",
    "p1 = Person(\"John\", 30)\n",
    "\n",
    "#accessing private variable using getter and setter\n",
    "print(p1.get_name())  \n",
    "\n",
    "p1.set_age(35)  \n",
    "print(p1.get_age()) \n",
    "\n",
    "p1.set_age(-5)  "
   ]
  },
  {
   "cell_type": "code",
   "execution_count": null,
   "id": "87dcf361",
   "metadata": {},
   "outputs": [],
   "source": []
  }
 ],
 "metadata": {
  "kernelspec": {
   "display_name": "Python 3",
   "language": "python",
   "name": "python3"
  },
  "language_info": {
   "codemirror_mode": {
    "name": "ipython",
    "version": 3
   },
   "file_extension": ".py",
   "mimetype": "text/x-python",
   "name": "python",
   "nbconvert_exporter": "python",
   "pygments_lexer": "ipython3",
   "version": "3.10.0"
  }
 },
 "nbformat": 4,
 "nbformat_minor": 5
}
