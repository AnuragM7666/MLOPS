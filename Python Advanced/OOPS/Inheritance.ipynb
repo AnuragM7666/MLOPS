{
 "cells": [
  {
   "cell_type": "markdown",
   "id": "80badc6b",
   "metadata": {},
   "source": [
    "Inheritance\n",
    "\n",
    "It allows a class to inherit attributes and methods from another class. "
   ]
  },
  {
   "cell_type": "code",
   "execution_count": 1,
   "id": "c1fe28de",
   "metadata": {},
   "outputs": [],
   "source": [
    "#parent class\n",
    "class Car:\n",
    "    def __init__(self, make, model):\n",
    "        self.make = make\n",
    "        self.model = model\n",
    "\n",
    "    def display_info(self):\n",
    "        return f\"Car Make: {self.make}, Model: {self.model}\"\n",
    "\n"
   ]
  },
  {
   "cell_type": "code",
   "execution_count": 2,
   "id": "01e194bd",
   "metadata": {},
   "outputs": [
    {
     "name": "stdout",
     "output_type": "stream",
     "text": [
      "Car Make: Toyota, Model: Corolla\n"
     ]
    }
   ],
   "source": [
    "car1 = Car(\"Toyota\", \"Corolla\")\n",
    "print(car1.display_info())"
   ]
  },
  {
   "cell_type": "code",
   "execution_count": null,
   "id": "3fb6dfe9",
   "metadata": {},
   "outputs": [],
   "source": [
    "#Child class (single inheritance)\n",
    "\n",
    "class ElectricCar(Car):\n",
    "    def __init__(self, make, model, battery_size):\n",
    "        super().__init__(make, model) #calling the parent class constructor\n",
    "        self.battery_size = battery_size\n",
    "\n",
    "    def display_info(self):\n",
    "        return f\"Electric Car Make: {self.make}, Model: {self.model}, Battery Size: {self.battery_size} kWh\""
   ]
  },
  {
   "cell_type": "code",
   "execution_count": 4,
   "id": "7f3d9bcc",
   "metadata": {},
   "outputs": [
    {
     "name": "stdout",
     "output_type": "stream",
     "text": [
      "Electric Car Make: Tesla, Model: Model S, Battery Size: 100 kWh\n"
     ]
    }
   ],
   "source": [
    "electric_car1 = ElectricCar(\"Tesla\", \"Model S\", 100)\n",
    "print(electric_car1.display_info())"
   ]
  },
  {
   "cell_type": "code",
   "execution_count": 5,
   "id": "3456fa44",
   "metadata": {},
   "outputs": [],
   "source": [
    "#multiple inheritance \n",
    "#When a class inherits from multiple parent classes\n",
    "class Animal:\n",
    "    def __init__(self, species):\n",
    "        self.species = species #base class 1\n",
    "\n",
    "    def make_sound(self):\n",
    "        return \"Some generic animal sound\"\n",
    "\n",
    "class Pet:\n",
    "    def __init__(self, name):\n",
    "        self.name = name #base class 2\n",
    "\n",
    "    def play(self):\n",
    "        return f\"{self.name} is playing!\"\n",
    "\n",
    "class Dog(Animal, Pet):\n",
    "    def __init__(self, name, breed):\n",
    "        Animal.__init__(self, \"Dog\")  # Initialize Animal part\n",
    "        Pet.__init__(self, name)       # Initialize Pet part\n",
    "        self.breed = breed\n",
    "\n",
    "    def make_sound(self):\n",
    "        return \"Woof!\"\n",
    "\n",
    "    def display_info(self):\n",
    "        return f\"{self.name} is a {self.breed} of species {self.species}.\""
   ]
  },
  {
   "cell_type": "code",
   "execution_count": 6,
   "id": "e998293c",
   "metadata": {},
   "outputs": [
    {
     "name": "stdout",
     "output_type": "stream",
     "text": [
      "Buddy is a Golden Retriever of species Dog.\n"
     ]
    }
   ],
   "source": [
    "dog1 = Dog(\"Buddy\", \"Golden Retriever\")\n",
    "print(dog1.display_info())"
   ]
  },
  {
   "cell_type": "code",
   "execution_count": null,
   "id": "15e06553",
   "metadata": {},
   "outputs": [],
   "source": []
  }
 ],
 "metadata": {
  "kernelspec": {
   "display_name": "Python 3",
   "language": "python",
   "name": "python3"
  },
  "language_info": {
   "codemirror_mode": {
    "name": "ipython",
    "version": 3
   },
   "file_extension": ".py",
   "mimetype": "text/x-python",
   "name": "python",
   "nbconvert_exporter": "python",
   "pygments_lexer": "ipython3",
   "version": "3.10.0"
  }
 },
 "nbformat": 4,
 "nbformat_minor": 5
}
