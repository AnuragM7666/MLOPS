{
 "cells": [
  {
   "cell_type": "markdown",
   "id": "1daea987",
   "metadata": {},
   "source": [
    "File Opeartion - Read and write files\n",
    "\n",
    "Python provides built-in functions and methods to read from and write to files, both text and binary. "
   ]
  },
  {
   "cell_type": "code",
   "execution_count": 1,
   "id": "327d801b",
   "metadata": {},
   "outputs": [
    {
     "name": "stdout",
     "output_type": "stream",
     "text": [
      "In my mind , I'm always the best!!!\n",
      "I don't care what people think!!!\n",
      "With respect to everyone, f*ck everyone!!!\n",
      "I am here for my own!!!\n"
     ]
    }
   ],
   "source": [
    "##read a whole file\n",
    "\n",
    "with open('ex.txt', 'r') as file:\n",
    "    content= file.read()\n",
    "print(content)\n",
    "\n"
   ]
  },
  {
   "cell_type": "code",
   "execution_count": 2,
   "id": "c48f7aa8",
   "metadata": {},
   "outputs": [
    {
     "name": "stdout",
     "output_type": "stream",
     "text": [
      "In my mind , I'm always the best!!!\n",
      "I don't care what people think!!!\n",
      "With respect to everyone, f*ck everyone!!!\n",
      "I am here for my own!!!\n"
     ]
    }
   ],
   "source": [
    "#read a file line by line\n",
    "\n",
    "with open('ex.txt', 'r') as file:\n",
    "    for line in file:\n",
    "        print(line.strip())  # .strip() removes the newline character at the end of each line"
   ]
  },
  {
   "cell_type": "code",
   "execution_count": 4,
   "id": "d37fe9ad",
   "metadata": {},
   "outputs": [],
   "source": [
    "#writing a file(overwriting)\n",
    "\n",
    "with open('ex.txt', 'w') as file:\n",
    "    file.write('They dont know me son.\\n')\n",
    "    file.write('Stay hard mf!!.\\n')"
   ]
  },
  {
   "cell_type": "code",
   "execution_count": 9,
   "id": "f7083ffd",
   "metadata": {},
   "outputs": [],
   "source": [
    "#writing to a file(appending/ without overwriting)\n",
    "\n",
    "with open('ex.txt', 'a') as file:\n",
    "    file.write('I am the best.\\n')\n",
    "    file.write('I am the GOAT.\\n')"
   ]
  },
  {
   "cell_type": "code",
   "execution_count": 10,
   "id": "e38c1772",
   "metadata": {},
   "outputs": [],
   "source": [
    "#writing a list of lines to a file\n",
    "\n",
    "lines = ['Line 1\\n', 'Line 2\\n', 'Line 3\\n']\n",
    "with open('ex.txt', 'a') as file:\n",
    "    file.writelines(lines)  # writelines() writes a list of strings to the file"
   ]
  },
  {
   "cell_type": "code",
   "execution_count": 11,
   "id": "e53617c4",
   "metadata": {},
   "outputs": [],
   "source": [
    "#binary files\n",
    "data= b'\\x00\\x01\\x02\\x03\\x04\\x05\\x06\\x07\\x08\\x09'\n",
    "with open('binary_file.bin', 'wb') as file:\n",
    "    file.write(data)  # Write binary data to a file"
   ]
  },
  {
   "cell_type": "code",
   "execution_count": 12,
   "id": "2e288258",
   "metadata": {},
   "outputs": [
    {
     "name": "stdout",
     "output_type": "stream",
     "text": [
      "b'\\x00\\x01\\x02\\x03\\x04\\x05\\x06\\x07\\x08\\t'\n"
     ]
    }
   ],
   "source": [
    "#reading binary files\n",
    "with open('binary_file.bin', 'rb') as file:\n",
    "    binary_content = file.read()\n",
    "    print(binary_content)  # Read the entire binary file"
   ]
  },
  {
   "cell_type": "code",
   "execution_count": 13,
   "id": "0171145d",
   "metadata": {},
   "outputs": [],
   "source": [
    "#read the content from a source file and write it to a destination file\n",
    "source_file = 'ex.txt'\n",
    "destination_file = 'copy_ex.txt'\n",
    "\n",
    "with open(source_file, 'r') as src:\n",
    "    content = src.read()  # Read the entire content of the source file\n",
    "\n",
    "with open(destination_file, 'w') as dest:\n",
    "    dest.write(content)  # Write the content to the destination file"
   ]
  },
  {
   "cell_type": "code",
   "execution_count": 14,
   "id": "0a7fbc4c",
   "metadata": {},
   "outputs": [
    {
     "name": "stdout",
     "output_type": "stream",
     "text": [
      "Lines: 5, Words: 14, Characters: 51\n"
     ]
    }
   ],
   "source": [
    "#read the text file and count the number of lines, words, and characters\n",
    "\n",
    "def count_file_stats(file_path):\n",
    "    with open(file_path, 'r') as file:\n",
    "        lines = file.readlines()\n",
    "        num_lines = len(lines)\n",
    "        num_words = sum(len(line.split()) for line in lines)\n",
    "        num_chars = sum(len(line) for line in lines)\n",
    "\n",
    "    return num_lines, num_words, num_chars\n",
    "\n",
    "file_path = 'ex.txt'\n",
    "num_lines, num_words, num_chars = count_file_stats(file_path)\n",
    "print(f'Lines: {num_lines}, Words: {num_words}, Characters: {num_chars}')"
   ]
  },
  {
   "cell_type": "markdown",
   "id": "3b38e254",
   "metadata": {},
   "source": [
    "W+ mode\n",
    "\n",
    "it is used to open a file for both reading and writing. If the file doesnt exist, it will be created. If file exists, its content is truncated(overwritten)."
   ]
  },
  {
   "cell_type": "code",
   "execution_count": 15,
   "id": "14daea5e",
   "metadata": {},
   "outputs": [
    {
     "name": "stdout",
     "output_type": "stream",
     "text": [
      "Hello, World!\n",
      "This is a test file.\n",
      "\n"
     ]
    }
   ],
   "source": [
    "#wrting and then reading a file \n",
    "\n",
    "with open('example.txt', 'w+') as file:\n",
    "    file.write('Hello, World!\\n')\n",
    "    file.write('This is a test file.\\n')\n",
    "    \n",
    "    # Move the cursor back to the beginning of the file\n",
    "    file.seek(0)\n",
    "    \n",
    "    # Read the content of the file\n",
    "    content = file.read()\n",
    "    print(content)  # Output: Hello, World!\\nThis is a test file.\\n "
   ]
  },
  {
   "cell_type": "code",
   "execution_count": 16,
   "id": "8e84c981",
   "metadata": {},
   "outputs": [
    {
     "name": "stdout",
     "output_type": "stream",
     "text": [
      "Directory \"new_folder\" created successfully.\n"
     ]
    }
   ],
   "source": [
    "#create a new directory\n",
    "\n",
    "import os\n",
    "new_directory = 'new_folder'\n",
    "os.mkdir(new_directory)\n",
    "print(f'Directory \"{new_directory}\" created successfully.')"
   ]
  },
  {
   "cell_type": "code",
   "execution_count": 18,
   "id": "c5cb5137",
   "metadata": {},
   "outputs": [
    {
     "name": "stdout",
     "output_type": "stream",
     "text": [
      "['binary_file.bin', 'copy_ex.txt', 'ex.txt', 'example.txt', 'FileHandling.ipynb', 'new_folder']\n"
     ]
    }
   ],
   "source": [
    "##list files in a directory\n",
    "\n",
    "items = os.listdir('.')\n",
    "print(items)"
   ]
  },
  {
   "cell_type": "code",
   "execution_count": null,
   "id": "b55a6b6b",
   "metadata": {},
   "outputs": [
    {
     "name": "stdout",
     "output_type": "stream",
     "text": [
      "Full path: the_folder\\test.txt\n"
     ]
    }
   ],
   "source": [
    "#joining paths\n",
    "\n",
    "directory = 'the_folder'\n",
    "file_name = 'test.txt'   \n",
    "full_path = os.path.join(directory, file_name) #relative path\n",
    "print(f'Full path: {full_path}')  # Output: new_folder/example.txt ("
   ]
  },
  {
   "cell_type": "code",
   "execution_count": 20,
   "id": "c643f1ca",
   "metadata": {},
   "outputs": [
    {
     "name": "stdout",
     "output_type": "stream",
     "text": [
      "The file \"demo.txt\" does not exist.\n"
     ]
    }
   ],
   "source": [
    "path='demo.txt'\n",
    "\n",
    "# Check if the file exists\n",
    "if os.path.exists(path):\n",
    "    print(f'The file \"{path}\" exists.')     \n",
    "else:\n",
    "    print(f'The file \"{path}\" does not exist.')"
   ]
  },
  {
   "cell_type": "code",
   "execution_count": 21,
   "id": "5de1c633",
   "metadata": {},
   "outputs": [
    {
     "name": "stdout",
     "output_type": "stream",
     "text": [
      "The path \"demo.txt\" is neither a file nor a directory.\n"
     ]
    }
   ],
   "source": [
    "#check if a path is a file or directory\n",
    "if os.path.isfile(path):\n",
    "    print(f'The path \"{path}\" is a file.')\n",
    "elif os.path.isdir(path):\n",
    "    print(f'The path \"{path}\" is a directory.')\n",
    "else:   \n",
    "    print(f'The path \"{path}\" is neither a file nor a directory.')"
   ]
  },
  {
   "cell_type": "code",
   "execution_count": 22,
   "id": "8bbf54f9",
   "metadata": {},
   "outputs": [
    {
     "name": "stdout",
     "output_type": "stream",
     "text": [
      "Absolute path: d:\\MLOPS\\Python Advanced\\demo.txt\n"
     ]
    }
   ],
   "source": [
    "#getting absolute path\n",
    "\n",
    "absolute_path = os.path.abspath(path)\n",
    "print(f'Absolute path: {absolute_path}')  # Output: /path/to/current/d"
   ]
  },
  {
   "cell_type": "code",
   "execution_count": null,
   "id": "591eb886",
   "metadata": {},
   "outputs": [],
   "source": []
  }
 ],
 "metadata": {
  "kernelspec": {
   "display_name": "Python 3",
   "language": "python",
   "name": "python3"
  },
  "language_info": {
   "codemirror_mode": {
    "name": "ipython",
    "version": 3
   },
   "file_extension": ".py",
   "mimetype": "text/x-python",
   "name": "python",
   "nbconvert_exporter": "python",
   "pygments_lexer": "ipython3",
   "version": "3.10.0"
  }
 },
 "nbformat": 4,
 "nbformat_minor": 5
}
