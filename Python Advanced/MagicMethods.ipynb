{
 "cells": [
  {
   "cell_type": "markdown",
   "id": "1a4c69e8",
   "metadata": {},
   "source": [
    "Magic Methods(Dunder Methods)\n",
    "\n",
    "They are double underscore methods that enable us to define the behaviour of objects for built-in operations .\n",
    "\n",
    "They are predefined methods that u can oveeride to change the behaviour of your objects."
   ]
  },
  {
   "cell_type": "code",
   "execution_count": 1,
   "id": "29a9bf1d",
   "metadata": {},
   "outputs": [
    {
     "data": {
      "text/plain": [
       "'\\n__init__: Initializes a new instance of a class\\n__str__: Returns a string representation of an object\\n__repr__: Returns a detailed string representation of an object\\n__len__: Returns the length of an object\\n__getitem__: Retrieves an item from a collection using its key or index\\n__setitem__: Sets an item in a collection using its key or index\\n'"
      ]
     },
     "execution_count": 1,
     "metadata": {},
     "output_type": "execute_result"
    }
   ],
   "source": [
    "'''\n",
    "__init__: Initializes a new instance of a class\n",
    "__str__: Returns a string representation of an object\n",
    "__repr__: Returns a detailed string representation of an object\n",
    "__len__: Returns the length of an object\n",
    "__getitem__: Retrieves an item from a collection using its key or index\n",
    "__setitem__: Sets an item in a collection using its key or index\n",
    "'''"
   ]
  },
  {
   "cell_type": "code",
   "execution_count": 4,
   "id": "0bb2fa80",
   "metadata": {},
   "outputs": [
    {
     "name": "stdout",
     "output_type": "stream",
     "text": [
      "Alice, 30 years old\n",
      "Person(name=Alice, age=30)\n"
     ]
    }
   ],
   "source": [
    "##basic magic methods\n",
    "class Person:\n",
    "    def __init__(self, name, age):\n",
    "        self.name = name\n",
    "        self.age = age\n",
    "\n",
    "    def __str__(self):\n",
    "        return f\"{self.name}, {self.age} years old\"\n",
    "    \n",
    "    def __repr__(self):\n",
    "        return f\"Person(name={self.name}, age={self.age})\"\n",
    "person = Person(\"Alice\", 30)\n",
    "print(person)\n",
    "print(repr(person))"
   ]
  },
  {
   "cell_type": "code",
   "execution_count": 5,
   "id": "c2e1984d",
   "metadata": {},
   "outputs": [
    {
     "data": {
      "text/plain": [
       "'\\n__add__: Defines the behavior of the addition operator (+) for a class\\n__sub__: Defines the behavior of the subtraction operator (-) for a class\\n__mul__: Defines the behavior of the multiplication operator (*) for a class    \\n__truediv__: Defines the behavior of the division operator (/) for a class\\n__floordiv__: Defines the behavior of the floor division operator (//) for a class\\n__eq__: Defines the behavior of the equality operator (==) for a class\\n__lt__: Defines the behavior of the less than operator (<) for a class\\n'"
      ]
     },
     "execution_count": 5,
     "metadata": {},
     "output_type": "execute_result"
    }
   ],
   "source": [
    "#operator overloading\n",
    "\n",
    "'''\n",
    "__add__: Defines the behavior of the addition operator (+) for a class\n",
    "__sub__: Defines the behavior of the subtraction operator (-) for a class\n",
    "__mul__: Defines the behavior of the multiplication operator (*) for a class    \n",
    "__truediv__: Defines the behavior of the division operator (/) for a class\n",
    "__floordiv__: Defines the behavior of the floor division operator (//) for a class\n",
    "__eq__: Defines the behavior of the equality operator (==) for a class\n",
    "__lt__: Defines the behavior of the less than operator (<) for a class\n",
    "'''"
   ]
  },
  {
   "cell_type": "code",
   "execution_count": null,
   "id": "42fc645f",
   "metadata": {},
   "outputs": [
    {
     "name": "stdout",
     "output_type": "stream",
     "text": [
      "Vector(6, 8)\n",
      "Vector(-2, -2)\n",
      "Vector(4, 6)\n",
      "False\n"
     ]
    }
   ],
   "source": [
    "#operator overloading example with a Vector class\n",
    "# This class allows you to add, subtract, multiply vectors, and check for equality.\n",
    "class Vector:\n",
    "    def __init__(self, x, y):\n",
    "        self.x = x\n",
    "        self.y = y\n",
    "\n",
    "    def __add__(self, other):\n",
    "        return Vector(self.x + other.x, self.y + other.y)\n",
    "\n",
    "    def __sub__(self, other):\n",
    "        return Vector(self.x - other.x, self.y - other.y)\n",
    "\n",
    "    def __mul__(self, other):\n",
    "        return Vector(self.x * other, self.y * other)\n",
    "\n",
    "    def __eq__(self, other):\n",
    "        return self.x == other.x and self.y == other.y\n",
    "    \n",
    "    def __repr__(self):\n",
    "        return f\"Vector({self.x}, {self.y})\"\n",
    "    \n",
    "v1 = Vector(2, 3)\n",
    "v2 = Vector(4, 5)   \n",
    "\n",
    "print(v1 + v2)\n",
    "print(v1 - v2)\n",
    "print(v1 * 2)\n",
    "print(v1 == v2)"
   ]
  },
  {
   "cell_type": "code",
   "execution_count": 2,
   "id": "9264c5bb",
   "metadata": {},
   "outputs": [
    {
     "name": "stdout",
     "output_type": "stream",
     "text": [
      "ComplexNumber(4, 6)\n",
      "ComplexNumber(-2, -2)\n",
      "ComplexNumber(-5, 10)\n",
      "ComplexNumber(0.44, 0.08)\n"
     ]
    }
   ],
   "source": [
    "#overloading method for complex numbers\n",
    "class ComplexNumber:    \n",
    "    def __init__(self, real, imag):\n",
    "        self.real = real\n",
    "        self.imag = imag\n",
    "\n",
    "    def __add__(self, other):\n",
    "        return ComplexNumber(self.real + other.real, self.imag + other.imag)\n",
    "\n",
    "    def __sub__(self, other):\n",
    "        return ComplexNumber(self.real - other.real, self.imag - other.imag)\n",
    "\n",
    "    def __mul__(self, other):\n",
    "        return ComplexNumber(\n",
    "            self.real * other.real - self.imag * other.imag,\n",
    "            self.real * other.imag + self.imag * other.real\n",
    "        )\n",
    "\n",
    "    def __truediv__(self, other):\n",
    "        denom = other.real**2 + other.imag**2\n",
    "        return ComplexNumber(\n",
    "            (self.real * other.real + self.imag * other.imag) / denom,\n",
    "            (self.imag * other.real - self.real * other.imag) / denom\n",
    "        )\n",
    "\n",
    "    def __repr__(self):\n",
    "        return f\"ComplexNumber({self.real}, {self.imag})\"\n",
    "    \n",
    "c1 = ComplexNumber(1, 2)\n",
    "c2 = ComplexNumber(3, 4)    \n",
    "\n",
    "print(c1 + c2)  \n",
    "print(c1 - c2)\n",
    "print(c1 * c2)\n",
    "print(c1 / c2)\n"
   ]
  },
  {
   "cell_type": "code",
   "execution_count": null,
   "id": "d06369a5",
   "metadata": {},
   "outputs": [],
   "source": []
  }
 ],
 "metadata": {
  "kernelspec": {
   "display_name": "Python 3",
   "language": "python",
   "name": "python3"
  },
  "language_info": {
   "codemirror_mode": {
    "name": "ipython",
    "version": 3
   },
   "file_extension": ".py",
   "mimetype": "text/x-python",
   "name": "python",
   "nbconvert_exporter": "python",
   "pygments_lexer": "ipython3",
   "version": "3.10.0"
  }
 },
 "nbformat": 4,
 "nbformat_minor": 5
}
